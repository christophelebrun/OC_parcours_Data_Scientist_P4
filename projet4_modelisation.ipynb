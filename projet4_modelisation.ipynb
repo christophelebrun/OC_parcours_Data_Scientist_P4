{
 "cells": [
  {
   "cell_type": "code",
   "execution_count": null,
   "metadata": {
    "Collapsed": "false"
   },
   "outputs": [],
   "source": [
    "# Restore the kernel\n",
    "import dill\n",
    "dill.load_session('kernels/p4_model_kernel.db')"
   ]
  },
  {
   "cell_type": "markdown",
   "metadata": {
    "Collapsed": "false"
   },
   "source": [
    "## Chargement des données nettoyées"
   ]
  },
  {
   "cell_type": "code",
   "execution_count": 1,
   "metadata": {
    "Collapsed": "false"
   },
   "outputs": [],
   "source": [
    "# Load libraries\n",
    "import numpy as np\n",
    "import pandas as pd"
   ]
  },
  {
   "cell_type": "code",
   "execution_count": 2,
   "metadata": {
    "Collapsed": "false"
   },
   "outputs": [],
   "source": [
    "%%capture --no-stdout --no-display\n",
    "\n",
    "# Load binary file with cleaned data\n",
    "data = pd.read_feather(\"p4_data.ft\")"
   ]
  },
  {
   "cell_type": "markdown",
   "metadata": {
    "Collapsed": "false"
   },
   "source": [
    "# **1. Modélisation**\n",
    "Nous cherchons à élaborer un modèle de prédiction des émissions de CO2 et de la consommation totale d'énergie à partir d'un jeu de données.\n",
    "\n",
    "Il s'agit donc d'un problème « *machine learning* » de régression (donc un problème d'apprentissage supervisé)."
   ]
  },
  {
   "cell_type": "markdown",
   "metadata": {
    "Collapsed": "false"
   },
   "source": [
    "### Définition de la **\"graine\"** pour le générateur pseudo-aléatoire\n",
    "Sélectionner cette graine nous permet d'opérer, lors des validations croisées, sur les mêmes plis (\"*folds*\") pour chaque modèle."
   ]
  },
  {
   "cell_type": "code",
   "execution_count": 3,
   "metadata": {
    "Collapsed": "false"
   },
   "outputs": [
    {
     "name": "stdout",
     "output_type": "stream",
     "text": [
      "Seed value:  90\n"
     ]
    }
   ],
   "source": [
    "# Set random integer (seed) - 891\n",
    "from random import randrange\n",
    "seed = randrange(1000)\n",
    "print(\"Seed value: \", seed)"
   ]
  },
  {
   "cell_type": "markdown",
   "metadata": {
    "Collapsed": "false"
   },
   "source": [
    "### Séparation des variables explicatives (*features*) et des étiquettes (*targets*)\n",
    "Il y a deux variables à estimer :\n",
    "* 'TotalGHGEmissions': *The total amount of greenhouse gas emissions, including carbon dioxide, methane, and nitrous oxide gases released into the atmosphere as a result of energy consumption at the property, measured in metric tons of carbon dioxide equivalent.*\n",
    "* 'SiteEnergyUse(kBtu)': *The annual amount of energy consumed by the property from all sources of energy.*"
   ]
  },
  {
   "cell_type": "code",
   "execution_count": 4,
   "metadata": {
    "Collapsed": "false"
   },
   "outputs": [],
   "source": [
    "# Features : all columns, except targets\n",
    "X = data.drop(columns=['TotalGHGEmissions', 'SiteEnergyUse(kBtu)'])\n",
    "\n",
    "# Choice of target (re-run the full notebook in another kernel)\n",
    "# target_feature = 'SiteEnergyUse(kBtu)'\n",
    "target_feature = 'TotalGHGEmissions'\n",
    "\n",
    "# Creating target vector\n",
    "y = data[target_feature]"
   ]
  },
  {
   "cell_type": "code",
   "execution_count": 5,
   "metadata": {
    "Collapsed": "false"
   },
   "outputs": [
    {
     "data": {
      "text/html": [
       "<div>\n",
       "<style scoped>\n",
       "    .dataframe tbody tr th:only-of-type {\n",
       "        vertical-align: middle;\n",
       "    }\n",
       "\n",
       "    .dataframe tbody tr th {\n",
       "        vertical-align: top;\n",
       "    }\n",
       "\n",
       "    .dataframe thead th {\n",
       "        text-align: right;\n",
       "    }\n",
       "</style>\n",
       "<table border=\"1\" class=\"dataframe\">\n",
       "  <thead>\n",
       "    <tr style=\"text-align: right;\">\n",
       "      <th></th>\n",
       "      <th>PrimaryPropertyType</th>\n",
       "      <th>Neighborhood</th>\n",
       "      <th>NumberofBuildings</th>\n",
       "      <th>NumberofFloors</th>\n",
       "      <th>PropertyGFAParking</th>\n",
       "      <th>LargestPropertyUseTypeGFA</th>\n",
       "      <th>ENERGYSTARScore</th>\n",
       "      <th>DefaultData</th>\n",
       "      <th>ComplianceStatus</th>\n",
       "      <th>BuildingAge</th>\n",
       "      <th>SteamUse</th>\n",
       "      <th>NaturalGas</th>\n",
       "      <th>OtherFuelUse</th>\n",
       "      <th>FloorsGFA</th>\n",
       "    </tr>\n",
       "  </thead>\n",
       "  <tbody>\n",
       "    <tr>\n",
       "      <th>0</th>\n",
       "      <td>Low-Rise Multifamily</td>\n",
       "      <td>DOWNTOWN</td>\n",
       "      <td>1.0</td>\n",
       "      <td>4.0</td>\n",
       "      <td>0.0</td>\n",
       "      <td>38172.0</td>\n",
       "      <td>75.0</td>\n",
       "      <td>False</td>\n",
       "      <td>Compliant</td>\n",
       "      <td>119</td>\n",
       "      <td>True</td>\n",
       "      <td>True</td>\n",
       "      <td>False</td>\n",
       "      <td>193532.0</td>\n",
       "    </tr>\n",
       "    <tr>\n",
       "      <th>1</th>\n",
       "      <td>Low-Rise Multifamily</td>\n",
       "      <td>DELRIDGE</td>\n",
       "      <td>1.0</td>\n",
       "      <td>4.0</td>\n",
       "      <td>0.0</td>\n",
       "      <td>52134.0</td>\n",
       "      <td>85.0</td>\n",
       "      <td>True</td>\n",
       "      <td>Compliant</td>\n",
       "      <td>12</td>\n",
       "      <td>False</td>\n",
       "      <td>False</td>\n",
       "      <td>False</td>\n",
       "      <td>208536.0</td>\n",
       "    </tr>\n",
       "    <tr>\n",
       "      <th>2</th>\n",
       "      <td>Retail Store</td>\n",
       "      <td>DOWNTOWN</td>\n",
       "      <td>1.0</td>\n",
       "      <td>4.0</td>\n",
       "      <td>0.0</td>\n",
       "      <td>NaN</td>\n",
       "      <td>91.0</td>\n",
       "      <td>False</td>\n",
       "      <td>Compliant</td>\n",
       "      <td>30</td>\n",
       "      <td>False</td>\n",
       "      <td>False</td>\n",
       "      <td>False</td>\n",
       "      <td>444308.0</td>\n",
       "    </tr>\n",
       "    <tr>\n",
       "      <th>3</th>\n",
       "      <td>Small- and Mid-Sized Office</td>\n",
       "      <td>DOWNTOWN</td>\n",
       "      <td>1.0</td>\n",
       "      <td>6.0</td>\n",
       "      <td>25920.0</td>\n",
       "      <td>98370.0</td>\n",
       "      <td>45.0</td>\n",
       "      <td>False</td>\n",
       "      <td>Compliant</td>\n",
       "      <td>113</td>\n",
       "      <td>False</td>\n",
       "      <td>True</td>\n",
       "      <td>False</td>\n",
       "      <td>434700.0</td>\n",
       "    </tr>\n",
       "    <tr>\n",
       "      <th>4</th>\n",
       "      <td>Large Office</td>\n",
       "      <td>LAKE UNION</td>\n",
       "      <td>1.0</td>\n",
       "      <td>4.0</td>\n",
       "      <td>37854.0</td>\n",
       "      <td>138672.0</td>\n",
       "      <td>59.0</td>\n",
       "      <td>False</td>\n",
       "      <td>Compliant</td>\n",
       "      <td>72</td>\n",
       "      <td>False</td>\n",
       "      <td>False</td>\n",
       "      <td>False</td>\n",
       "      <td>623736.0</td>\n",
       "    </tr>\n",
       "  </tbody>\n",
       "</table>\n",
       "</div>"
      ],
      "text/plain": [
       "           PrimaryPropertyType Neighborhood  NumberofBuildings  \\\n",
       "0         Low-Rise Multifamily     DOWNTOWN                1.0   \n",
       "1         Low-Rise Multifamily     DELRIDGE                1.0   \n",
       "2                 Retail Store     DOWNTOWN                1.0   \n",
       "3  Small- and Mid-Sized Office     DOWNTOWN                1.0   \n",
       "4                 Large Office   LAKE UNION                1.0   \n",
       "\n",
       "   NumberofFloors  PropertyGFAParking  LargestPropertyUseTypeGFA  \\\n",
       "0             4.0                 0.0                    38172.0   \n",
       "1             4.0                 0.0                    52134.0   \n",
       "2             4.0                 0.0                        NaN   \n",
       "3             6.0             25920.0                    98370.0   \n",
       "4             4.0             37854.0                   138672.0   \n",
       "\n",
       "   ENERGYSTARScore  DefaultData ComplianceStatus  BuildingAge  SteamUse  \\\n",
       "0             75.0        False        Compliant          119      True   \n",
       "1             85.0         True        Compliant           12     False   \n",
       "2             91.0        False        Compliant           30     False   \n",
       "3             45.0        False        Compliant          113     False   \n",
       "4             59.0        False        Compliant           72     False   \n",
       "\n",
       "   NaturalGas  OtherFuelUse  FloorsGFA  \n",
       "0        True         False   193532.0  \n",
       "1       False         False   208536.0  \n",
       "2       False         False   444308.0  \n",
       "3        True         False   434700.0  \n",
       "4       False         False   623736.0  "
      ]
     },
     "execution_count": 5,
     "metadata": {},
     "output_type": "execute_result"
    }
   ],
   "source": [
    "X.head()"
   ]
  },
  {
   "cell_type": "code",
   "execution_count": 6,
   "metadata": {
    "Collapsed": "false"
   },
   "outputs": [
    {
     "data": {
      "text/plain": [
       "0    4.727919\n",
       "1    2.246015\n",
       "2    4.248638\n",
       "3    3.876189\n",
       "4    4.769328\n",
       "Name: TotalGHGEmissions, dtype: float64"
      ]
     },
     "execution_count": 6,
     "metadata": {},
     "output_type": "execute_result"
    }
   ],
   "source": [
    "y.head()"
   ]
  },
  {
   "cell_type": "markdown",
   "metadata": {
    "Collapsed": "false"
   },
   "source": [
    "### Séparation des **jeux de données d'entraînement et de test**\n",
    "**Remarque :** comme les hyperparamètres et le modèle seront séléctionnées par **validation croisée imbriquée**, il n'est pas nécessaire de séparer jeux d'entraînement, de test et de validation."
   ]
  },
  {
   "cell_type": "code",
   "execution_count": 7,
   "metadata": {
    "Collapsed": "false"
   },
   "outputs": [],
   "source": [
    "def split_data(features, target):\n",
    "\n",
    "    from sklearn.model_selection import train_test_split\n",
    "\n",
    "    # Splitting the data in train set and test set\n",
    "    X_1, X_2, y_1, y_2 = train_test_split(\n",
    "        features,\n",
    "        target,\n",
    "        train_size=0.8,\n",
    "        test_size=0.2,\n",
    "        random_state=seed\n",
    "    )\n",
    "    \n",
    "    # Returning results\n",
    "    return (X_1, X_2, y_1, y_2)\n",
    "\n",
    "(X_train, X_test, y_train, y_test) = split_data(X, y);"
   ]
  },
  {
   "cell_type": "markdown",
   "metadata": {
    "Collapsed": "false"
   },
   "source": [
    "### Choix de la **métrique** et Régresseur naïf (modèle de référence)\n",
    "Comme métrique d'évaluation, nous utilisons le **coefficient de détermination R²** pour lequel le meilleur score est 1. Ce coefficient mesure la proportion de la variance de la variable dépendante expliquée par les variables indépendantes.\n",
    "\n",
    "$$R^{2} = 1 - \\frac{\\sum\\limits_{i=1}^n (y_i - \\hat{y_i})^2}{\\sum\\limits_{i=1}^n (y_i - \\bar{y})^2}$$\n",
    "\n",
    "**Remarque :** en raison de ce choix, nous n'avons pas besoin d'entraîner un **modèle naïf** de référence. En effet, un régresseur naïf prédisant la valeur moyenne des étiquette, obtiendra un **score R² de 0**."
   ]
  },
  {
   "cell_type": "code",
   "execution_count": 8,
   "metadata": {
    "Collapsed": "false"
   },
   "outputs": [],
   "source": [
    "# Setting evaluation metric for regression\n",
    "scoring='r2'"
   ]
  },
  {
   "cell_type": "markdown",
   "metadata": {
    "Collapsed": "false"
   },
   "source": [
    "## Définition du **Pipeline** incluant le pré-traitement\n",
    "Nous procédons à une validation croisée pour sélectionner les hyperparamètres et le modèle.\n",
    "\n",
    "Pour que le prétraitement soit réalisé sans fuite de données, nous utiliserons un « pipeline »."
   ]
  },
  {
   "cell_type": "markdown",
   "metadata": {
    "Collapsed": "false"
   },
   "source": [
    "### Définition du **prétraitement différencié** selon les colonnes\n",
    "\n",
    "Nous appliquerons un pré-traitement différencié selon que les caractéristiques sont quantitatives ou catégorielles. Dans cette partie, nous définissons ce pré-traitement dans un pipe-line pour usage ultérieur, intégré à la validation croisée.\n",
    " * imputation\n",
    " * *target encoding*\n",
    " * standardisation"
   ]
  },
  {
   "cell_type": "code",
   "execution_count": 9,
   "metadata": {
    "Collapsed": "false"
   },
   "outputs": [],
   "source": [
    "def define_preprocessor(X):\n",
    "\n",
    "    # Load libraries\n",
    "    from sklearn.pipeline import Pipeline\n",
    "    from sklearn.preprocessing import StandardScaler\n",
    "    from category_encoders.target_encoder import TargetEncoder\n",
    "    from sklearn.preprocessing import LabelEncoder\n",
    "    from sklearn.compose import ColumnTransformer\n",
    "    from sklearn.impute import SimpleImputer\n",
    "    from sklearn.experimental import enable_iterative_imputer\n",
    "    from sklearn.impute import IterativeImputer\n",
    "    \n",
    "    # Preprocessing pipeline for categorical features\n",
    "    categorical_transformer = Pipeline(steps=[\n",
    "            ('imputer', SimpleImputer(strategy='constant', fill_value='missing')), # simple imputation \n",
    "            ('target_encoder', TargetEncoder()), # target encoding\n",
    "            ('scaler', StandardScaler()), # standardization after target encoding\n",
    "            ])\n",
    "    \n",
    "    # Preprocessing pipeline for numeric features\n",
    "    numeric_transformer = Pipeline(steps=[\n",
    "            ('imputer', IterativeImputer(max_iter=10, random_state=seed, add_indicator=True)), # iterative imputation\n",
    "            ('scaler', StandardScaler()), # standardization\n",
    "             ])\n",
    "\n",
    "    # Preprocessing column-wise using pipelines for numeric and categorical features\n",
    "    preprocessor = ColumnTransformer(transformers=[\n",
    "            ('cat', categorical_transformer, list(X.select_dtypes(include=['category', 'bool']).columns)),\n",
    "            ('num', numeric_transformer, list(X.select_dtypes(include='number').columns)),\n",
    "            ])\n",
    "    \n",
    "    return preprocessor\n",
    "\n",
    "preprocessor = define_preprocessor(X)"
   ]
  },
  {
   "cell_type": "raw",
   "metadata": {
    "Collapsed": "false"
   },
   "source": [
    "# For DEBUG purpose\n",
    "print(preprocessor.fit_transform(X_train, y_train).shape)"
   ]
  },
  {
   "cell_type": "markdown",
   "metadata": {
    "Collapsed": "false"
   },
   "source": [
    "### Définition du pipe-line\n",
    "Pour éviter les \"fuites de données\", nous effectuerons les transformations de prétraitement dans un \"pipe-line\" intégré à la recherche sur grille avec validation croisée.\n",
    "Nous définissons un pipe-line incluant tout le pré-traitement avec un modèle de regression naïf.\n",
    "\n",
    "**Remarque :** les véritables modèles seront définis dans les espaces de recherche."
   ]
  },
  {
   "cell_type": "code",
   "execution_count": 10,
   "metadata": {
    "Collapsed": "false"
   },
   "outputs": [],
   "source": [
    "from sklearn.dummy import DummyRegressor\n",
    "from tempfile import mkdtemp\n",
    "\n",
    "# Create temp directory for caching transformers: avoid repeated computation\n",
    "cachedir = mkdtemp()\n",
    "\n",
    "def define_pipeline(preprocessor, regressor):\n",
    "\n",
    "    # Load libraries\n",
    "    from sklearn.pipeline import Pipeline\n",
    "\n",
    "    # Create a pipeline\n",
    "    pipe = Pipeline([(\"preprocess\", preprocessor), # preprocessing steps\n",
    "                     (\"regressor\", regressor), # dummy regression model\n",
    "                    ],\n",
    "                    memory=cachedir,\n",
    "    )\n",
    "    \n",
    "    # Return pipeline\n",
    "    return pipe\n",
    "\n",
    "pipe = define_pipeline(preprocessor, DummyRegressor())"
   ]
  },
  {
   "cell_type": "code",
   "execution_count": 11,
   "metadata": {
    "Collapsed": "false"
   },
   "outputs": [
    {
     "name": "stdout",
     "output_type": "stream",
     "text": [
      "Score of the baseline model: R² = -0.002\n"
     ]
    }
   ],
   "source": [
    "# Testing pipeline and making the naïve baseline model\n",
    "pipe.fit(X_train, y_train)\n",
    "score = pipe.score(X_test, y_test)\n",
    "print(\"Score of the naïve model: R² = {:.3f}\".format(score))"
   ]
  },
  {
   "cell_type": "markdown",
   "metadata": {
    "Collapsed": "false"
   },
   "source": [
    "## Définition des **espaces de recherche**\n",
    "Scikit-learn propose des **méthodes spécifiques** à certains algorithmes pour la sélection des hyper-paramètres. (Voir aussi :  __[documentation scikit-learn](https://scikit-learn.org/stable/modules/grid_search.html#model-specific-cross-validation)__) Néanmoins, nous choisissons d'utiliser la même méthode de recherche pour chaque algorithme.\n",
    "\n",
    "Nous allons utiliser une recherche aléatoire sur grille avec validation croisée (*RandomizedSearchCV*). Pour des raisons de performances et de lisibilité du code, nous choississons d'établir une grille de recherche distincte pour chacun des modèles."
   ]
  },
  {
   "cell_type": "markdown",
   "metadata": {
    "Collapsed": "false"
   },
   "source": [
    "### ElasticNet"
   ]
  },
  {
   "cell_type": "markdown",
   "metadata": {
    "Collapsed": "false"
   },
   "source": [
    "L'implémentation du modèle de régression linéaire régularisée *ElasticNet* dans *scikit-learn* correspond à la fonction de perte suivante :\n",
    "\n",
    "$$ \\hat{\\beta} =  \\underset{\\beta \\in \\mathbb{R}^{p+1}}{\\text{argmin}} [\\frac{1}{2N} · ||y - X_\\beta||^2_2 + \\alpha  · ( \\rho · ||\\beta||_1 + (1 - \\rho) · \\frac{1}{2} · ||\\beta||^2_2 )]$$"
   ]
  },
  {
   "cell_type": "code",
   "execution_count": 12,
   "metadata": {
    "Collapsed": "false"
   },
   "outputs": [],
   "source": [
    "# Grid of research for ElasticNet\n",
    "from sklearn.linear_model import ElasticNet\n",
    "from scipy.stats import uniform  # uniform distr between 0 and 1\n",
    "\n",
    "# Create space of candidate values for hyperparameters\n",
    "param_grid_elastic = [{\n",
    "    \"regressor\": [ElasticNet(max_iter=1000)], # elastic net regressor\n",
    "    \"regressor__alpha\": np.logspace(-3, 1, 5), # penalty intensity (5 values between 10⁻³ and 10¹)\n",
    "    \"regressor__l1_ratio\": uniform() # mixing parameter for l1 and l2 penalties\n",
    "}]"
   ]
  },
  {
   "cell_type": "markdown",
   "metadata": {
    "Collapsed": "false"
   },
   "source": [
    "### k-SVR\n",
    "Machine à vecteur de support à noyau pour la régression (k-SVR)\n"
   ]
  },
  {
   "cell_type": "code",
   "execution_count": 13,
   "metadata": {
    "Collapsed": "false"
   },
   "outputs": [],
   "source": [
    "# Grid of research for k-SVR\n",
    "from sklearn.svm import SVR\n",
    "from scipy.stats import expon\n",
    "from scipy.stats import randint as sp_randint\n",
    "\n",
    "# Create space of candidate values for hyperparameters\n",
    "param_grid_svr_poly = [{# hyper-parameters for polynomial kernel\n",
    "    \"regressor\": [SVR()], # k-SVM regressor\n",
    "    \"regressor__kernel\": ['poly'],\n",
    "    \"regressor__C\": expon(scale=100, loc=5), # C : penalty parameter of the error term  \n",
    "    \"regressor__coef0\" : [0, 1], # coef0 : independent term in kernel\n",
    "    \"regressor__degree\" : sp_randint(1, 3), # degree of the polynomial kernel function\n",
    "    }]\n",
    "\n",
    "param_grid_svr_linear = [{# hyper-parameters for linear kernel\n",
    "    \"regressor\": [SVR()], # k-SVM regressor\n",
    "    \"regressor__kernel\": ['linear'],\n",
    "    \"regressor__C\": expon(scale=100, loc=5), # C : penalty parameter of the error term. y = (x - loc) / scale  \n",
    "    }]\n",
    "\n",
    "param_grid_svr_gaussian = [{# hyper-parameters for gaussian kernel\n",
    "    \"regressor\": [SVR()], # k-SVM regressor\n",
    "    \"regressor__kernel\": ['rbf'],\n",
    "    \"regressor__C\": expon(scale=100, loc=5), # C : penalty parameter of the error term    \n",
    "    \"regressor__gamma\" : [0.0001, 0.001, 0.01, 0.1], # specific for gaussian kernel\n",
    "    }]"
   ]
  },
  {
   "cell_type": "markdown",
   "metadata": {
    "Collapsed": "false"
   },
   "source": [
    "### kNN\n",
    "k-plus proches voisins pour la régression (k-NN regressor) car le jeu de données est de taille réduite"
   ]
  },
  {
   "cell_type": "code",
   "execution_count": 14,
   "metadata": {
    "Collapsed": "false"
   },
   "outputs": [],
   "source": [
    "# Grid of research for kNN\n",
    "from sklearn.neighbors import KNeighborsRegressor\n",
    "from scipy.stats import randint as sp_randint\n",
    "\n",
    "# Create space of candidate values for hyperparameters\n",
    "param_grid_knn = [{\n",
    "    \"regressor\": [KNeighborsRegressor(n_jobs=-1)], # kNN regressor\n",
    "    \"regressor__n_neighbors\": sp_randint(1, 20), # number of neighbors to consider\n",
    "    \"regressor__weights\": ['uniform', 'distance'], # ponderation of weights of neighbors\n",
    "}]"
   ]
  },
  {
   "cell_type": "markdown",
   "metadata": {
    "Collapsed": "false"
   },
   "source": [
    "### Random Forest\n",
    "Forêt aléatoire pour la régression (*random forest regressor*)."
   ]
  },
  {
   "cell_type": "code",
   "execution_count": 15,
   "metadata": {
    "Collapsed": "false"
   },
   "outputs": [],
   "source": [
    "# Grid of research for Random Forest\n",
    "from sklearn.ensemble import RandomForestRegressor\n",
    "from scipy.stats import randint as sp_randint\n",
    "\n",
    "# Create space of candidate values for hyperparameters\n",
    "param_grid_forest = [{\n",
    "    \"regressor\": [RandomForestRegressor(n_jobs=-1, random_state=seed, n_estimators=1000)], # random forest regressor\n",
    "    \"regressor__max_features\": sp_randint(2, 5), # number of features to consider at each node\n",
    "    \"regressor__max_depth\": sp_randint(2, 5), # maximum depth (to prune) a stump \n",
    "    \"regressor__min_samples_leaf\": sp_randint(1, 100), # minimum number of samples required to be at a leaf node\n",
    "}]"
   ]
  },
  {
   "cell_type": "markdown",
   "metadata": {
    "Collapsed": "false"
   },
   "source": [
    "### AdaBoost"
   ]
  },
  {
   "cell_type": "code",
   "execution_count": 16,
   "metadata": {
    "Collapsed": "false"
   },
   "outputs": [],
   "source": [
    "# Grid of research for AdaBoost\n",
    "from sklearn.ensemble import AdaBoostRegressor\n",
    "from sklearn.tree import DecisionTreeRegressor\n",
    "from scipy.stats import randint as sp_randint\n",
    "\n",
    "# Create space of candidate values for hyperparameters\n",
    "param_grid_adaboost = [{\n",
    "    \"regressor\": [AdaBoostRegressor(random_state=seed)], # AdaBoost regressor\n",
    "    \"regressor__base_estimator\": [DecisionTreeRegressor()], # Required to tune the max_depth factor\n",
    "    \"regressor__base_estimator__max_depth\": sp_randint(2, 5), #  [2,4]\n",
    "    \"regressor__n_estimators\": sp_randint(50, 1000), # number of weak models to iteratively train\n",
    "    \"regressor__learning_rate\": np.logspace(-2, 1, 4), # learning rate, from 10⁻² to 10¹\n",
    "    \"regressor__loss\": ['linear', 'square', 'exponential'], # loss function for weights update\n",
    "}]"
   ]
  },
  {
   "cell_type": "markdown",
   "metadata": {
    "Collapsed": "false"
   },
   "source": [
    "### Dictionnaire des espaces de recherche"
   ]
  },
  {
   "cell_type": "markdown",
   "metadata": {
    "Collapsed": "false"
   },
   "source": [
    "Nous pouvons enregister les différents espaces de recherche dans un dictionnaire."
   ]
  },
  {
   "cell_type": "code",
   "execution_count": 17,
   "metadata": {
    "Collapsed": "false"
   },
   "outputs": [],
   "source": [
    "# Dictionnary of search spaces for each family of models\n",
    "param_grids = {\n",
    "    'ElasticNet': param_grid_elastic, # space of search for ElasticNet\n",
    "    'kSVM poly': param_grid_svr_poly, # space of search for k-SVR with polynomial kernel\n",
    "    'kSVM linear': param_grid_svr_linear, # space of search for k-SVR\n",
    "    'kSVM gaussian': param_grid_svr_gaussian, # space of search for k-SVR\n",
    "    'kNN': param_grid_knn, # space of search for kNN regressor\n",
    "    'RandomForest': param_grid_forest, # space of search for random forest\n",
    "    'AdaBoost': param_grid_adaboost, # space of search for AdaBoost regressor\n",
    "              }"
   ]
  },
  {
   "cell_type": "markdown",
   "metadata": {
    "Collapsed": "false"
   },
   "source": [
    "## **Recherche aléatoire** sur grille avec validation croisée\n",
    "Nous allons optimiser le choix des hyper-paramètres en utilisant une validation croisée (interne)\n",
    "\n",
    "**Remarque :** nous conservons la métrique par défaut de scikit-learn pour les régression : le **score R²**."
   ]
  },
  {
   "cell_type": "markdown",
   "metadata": {
    "Collapsed": "false"
   },
   "source": [
    "### Définition du générateur de validation croisée (interne)"
   ]
  },
  {
   "cell_type": "code",
   "execution_count": 18,
   "metadata": {
    "Collapsed": "false"
   },
   "outputs": [],
   "source": [
    "from sklearn.model_selection import KFold\n",
    "\n",
    "# Define the cross-validation generator\n",
    "cv_inner = KFold(\n",
    "    n_splits=10, # number of folds (default=5)\n",
    "    shuffle=True, # shuffle the data before splitting into batche\n",
    "    random_state=seed, # seeding the random number generator for shuffling\n",
    ")"
   ]
  },
  {
   "cell_type": "markdown",
   "metadata": {
    "Collapsed": "false"
   },
   "source": [
    "### Instanciations des objets RandomizedSearchCV"
   ]
  },
  {
   "cell_type": "code",
   "execution_count": 19,
   "metadata": {
    "Collapsed": "false"
   },
   "outputs": [],
   "source": [
    "def random_searchCV(features, target, pipe):\n",
    "\n",
    "    # Load libraries\n",
    "    from sklearn.model_selection import RandomizedSearchCV\n",
    "\n",
    "    # Initialising the dict of results of RandomizedSearchCV\n",
    "    CVsearch_dict = {}\n",
    "\n",
    "    # Iterating over models and related parameters grids\n",
    "    for model, param_grid in param_grids.items():\n",
    "        print(\"\\nProceeding RandomizedSearchCV for {}…\".format(model))\n",
    "        # Handle case where there are different dicts in param_grid (k-SVR…)\n",
    "        for param_grid_dict in param_grid:\n",
    "\n",
    "            # Intenciation of RandomizedSearchCV object\n",
    "            randomsearch = RandomizedSearchCV(\n",
    "                pipe, # use of the pipeline (preprocessing + model dummy)\n",
    "                param_distributions=param_grid_dict, # choice of hyper-parameters to test\n",
    "                scoring=scoring, # scoring method for regression\n",
    "                cv=cv_inner, # cross-validation generator\n",
    "                n_jobs=-1, # use all available cores (parallelization)\n",
    "                iid=False, # to avoid a DeprecationWarning\n",
    "                return_train_score=True, # to avoid a DeprecationWarning\n",
    "                n_iter=10, # number of combinations of hyper-parameters to try\n",
    "            )\n",
    "\n",
    "            # Searching for best hyper-parameters, and saving in dict\n",
    "            CVsearch_dict[model] = randomsearch.fit(features, target)\n",
    "\n",
    "            # Getting standard deviation for best_model scores\n",
    "            best_index = randomsearch.best_index_\n",
    "            std_score = randomsearch.cv_results_['std_test_score'][best_index]\n",
    "\n",
    "            # Displays the parameters of the best model\n",
    "            print(\"Best parameters found for {}:\".format(model))\n",
    "\n",
    "            # Getting parameters from param_grid\n",
    "            for parameter, _ in param_grid_dict.items():\n",
    "                if parameter != 'regressor':\n",
    "                    best_parameter = randomsearch.best_estimator_.get_params()[parameter]\n",
    "                    parameter = parameter.split(\"regressor__\")[1]   \n",
    "                    # Display best parameter\n",
    "                    print(\"  - \" + parameter + \":\", best_parameter)\n",
    "\n",
    "            # Getting the best score\n",
    "            print(\"\\nMean cross-validated score of the best estimator for {}: R² = {:.3f} ± {:.3f}\".format(model, randomsearch.best_score_, std_score))\n",
    "    \n",
    "    # Returns dictionnary with results\n",
    "    return CVsearch_dict"
   ]
  },
  {
   "cell_type": "markdown",
   "metadata": {
    "Collapsed": "false"
   },
   "source": [
    "### **Exécution** de la recherche"
   ]
  },
  {
   "cell_type": "code",
   "execution_count": 20,
   "metadata": {
    "Collapsed": "false"
   },
   "outputs": [
    {
     "name": "stdout",
     "output_type": "stream",
     "text": [
      "\n",
      "Proceeding RandomizedSearchCV for ElasticNet…\n",
      "Best parameters found for ElasticNet:\n",
      "  - alpha: 0.001\n",
      "  - l1_ratio: 0.259636400733552\n",
      "\n",
      "Mean cross-validated score of the best estimator for ElasticNet: R² = 0.668 ± 0.031\n",
      "\n",
      "Proceeding RandomizedSearchCV for kSVM poly…\n",
      "Best parameters found for kSVM poly:\n",
      "  - kernel: poly\n",
      "  - C: 23.26966255748342\n",
      "  - coef0: 1\n",
      "  - degree: 1\n",
      "\n",
      "Mean cross-validated score of the best estimator for kSVM poly: R² = 0.653 ± 0.048\n",
      "\n",
      "Proceeding RandomizedSearchCV for kSVM linear…\n",
      "Best parameters found for kSVM linear:\n",
      "  - kernel: linear\n",
      "  - C: 217.30579810246377\n",
      "\n",
      "Mean cross-validated score of the best estimator for kSVM linear: R² = 0.653 ± 0.048\n",
      "\n",
      "Proceeding RandomizedSearchCV for kSVM gaussian…\n",
      "Best parameters found for kSVM gaussian:\n",
      "  - kernel: rbf\n",
      "  - C: 5.7937216568218926\n",
      "  - gamma: 0.01\n",
      "\n",
      "Mean cross-validated score of the best estimator for kSVM gaussian: R² = 0.744 ± 0.030\n",
      "\n",
      "Proceeding RandomizedSearchCV for kNN…\n",
      "Best parameters found for kNN:\n",
      "  - n_neighbors: 10\n",
      "  - weights: distance\n",
      "\n",
      "Mean cross-validated score of the best estimator for kNN: R² = 0.685 ± 0.038\n",
      "\n",
      "Proceeding RandomizedSearchCV for RandomForest…\n",
      "Best parameters found for RandomForest:\n",
      "  - max_features: 3\n",
      "  - max_depth: 4\n",
      "  - min_samples_leaf: 17\n",
      "\n",
      "Mean cross-validated score of the best estimator for RandomForest: R² = 0.640 ± 0.026\n",
      "\n",
      "Proceeding RandomizedSearchCV for AdaBoost…\n",
      "Best parameters found for AdaBoost:\n",
      "  - base_estimator: DecisionTreeRegressor(criterion='mse', max_depth=4, max_features=None,\n",
      "                      max_leaf_nodes=None, min_impurity_decrease=0.0,\n",
      "                      min_impurity_split=None, min_samples_leaf=1,\n",
      "                      min_samples_split=2, min_weight_fraction_leaf=0.0,\n",
      "                      presort=False, random_state=None, splitter='best')\n",
      "  - base_estimator__max_depth: 4\n",
      "  - n_estimators: 171\n",
      "  - learning_rate: 0.01\n",
      "  - loss: exponential\n",
      "\n",
      "Mean cross-validated score of the best estimator for AdaBoost: R² = 0.718 ± 0.036\n"
     ]
    }
   ],
   "source": [
    "CVsearch_dict = random_searchCV(X_train, y_train, pipe)"
   ]
  },
  {
   "cell_type": "markdown",
   "metadata": {
    "Collapsed": "false"
   },
   "source": [
    "### **Récupération** du meilleur modèle (pipeline : pré-traitement + régresseur)"
   ]
  },
  {
   "cell_type": "code",
   "execution_count": 21,
   "metadata": {
    "Collapsed": "false"
   },
   "outputs": [
    {
     "name": "stdout",
     "output_type": "stream",
     "text": [
      "\n",
      "The overall best cross-validated score is : R² = 0.744\n",
      "The best model is kSVM gaussian with parameters: \n",
      "  - kernel: rbf\n",
      "  - C: 5.7937216568218926\n",
      "  - gamma: 0.01\n"
     ]
    }
   ],
   "source": [
    "def get_best_model(CVsearch_dict):\n",
    "    \"\"\"Return the best_model from CVsearch_dict.\"\"\"\n",
    "\n",
    "    # Initializing best score\n",
    "    best_score = 0\n",
    "\n",
    "    # Iterating over models\n",
    "    for model, model_CVsearch in CVsearch_dict.items():\n",
    "\n",
    "        # Selecting model with best score\n",
    "        if model_CVsearch.best_score_ > best_score:\n",
    "            # Updating best_score and best_model\n",
    "            best_model_name = model\n",
    "            best_score = model_CVsearch.best_score_\n",
    "            best_model = model_CVsearch.best_estimator_\n",
    "\n",
    "    # Display results\n",
    "    print(\"\\nThe overall best cross-validated score is : R² = {:.3f}\".format(best_score))\n",
    "    print(\"The best model is {} with parameters: \".format(best_model_name))\n",
    "\n",
    "    # Getting parameters from param_grid\n",
    "    for parameter, _ in param_grids[best_model_name][0].items():\n",
    "        if parameter != 'regressor':\n",
    "            best_parameter = best_model.get_params()[parameter]\n",
    "\n",
    "            # Display best parameter\n",
    "            parameter = parameter.split(\"regressor__\")[1]\n",
    "            print(\"  - \" + parameter + \":\", best_parameter)\n",
    "\n",
    "    return best_model\n",
    "\n",
    "model_GHG = get_best_model(CVsearch_dict)"
   ]
  },
  {
   "cell_type": "markdown",
   "metadata": {
    "Collapsed": "false"
   },
   "source": [
    "# **2. Interprétations** des résultats"
   ]
  },
  {
   "cell_type": "markdown",
   "metadata": {
    "Collapsed": "false"
   },
   "source": [
    "### **Évaluation finale** du meilleur modèle sur le jeu de test"
   ]
  },
  {
   "cell_type": "code",
   "execution_count": 22,
   "metadata": {
    "Collapsed": "false"
   },
   "outputs": [
    {
     "name": "stdout",
     "output_type": "stream",
     "text": [
      "Score of the best model on the train set: R² = 0.777\n",
      "Score of the best model on the test set: R² = 0.731\n"
     ]
    }
   ],
   "source": [
    "score_train = model_GHG.score(X_train, y_train)\n",
    "print(\"Score of the best model on the train set: R² = {:.3f}\".format(score_train))\n",
    "\n",
    "score_test_GHG = model_GHG.score(X_test, y_test)\n",
    "print(\"Score of the best model on the test set: R² = {:.3f}\".format(score_test_GHG))"
   ]
  },
  {
   "cell_type": "markdown",
   "metadata": {
    "Collapsed": "false"
   },
   "source": [
    "### **Comparaison** et visualisation de la **précision** des modèles (fonction de perte)\n",
    "Nous comparons les performances sur les jeu d'entraînement, de validation et de le jeu de test pour chaque modèle."
   ]
  },
  {
   "cell_type": "code",
   "execution_count": 24,
   "metadata": {
    "Collapsed": "false",
    "jupyter": {
     "source_hidden": true
    }
   },
   "outputs": [
    {
     "data": {
      "text/html": [
       "<div>\n",
       "<style scoped>\n",
       "    .dataframe tbody tr th:only-of-type {\n",
       "        vertical-align: middle;\n",
       "    }\n",
       "\n",
       "    .dataframe tbody tr th {\n",
       "        vertical-align: top;\n",
       "    }\n",
       "\n",
       "    .dataframe thead th {\n",
       "        text-align: right;\n",
       "    }\n",
       "</style>\n",
       "<table border=\"1\" class=\"dataframe\">\n",
       "  <thead>\n",
       "    <tr style=\"text-align: right;\">\n",
       "      <th></th>\n",
       "      <th>mean_score_CV</th>\n",
       "      <th>std_score_CV</th>\n",
       "      <th>test_score</th>\n",
       "    </tr>\n",
       "  </thead>\n",
       "  <tbody>\n",
       "    <tr>\n",
       "      <th>kSVM gaussian</th>\n",
       "      <td>0.743616</td>\n",
       "      <td>0.0299048</td>\n",
       "      <td>0.730872</td>\n",
       "    </tr>\n",
       "    <tr>\n",
       "      <th>AdaBoost</th>\n",
       "      <td>0.718436</td>\n",
       "      <td>0.0359817</td>\n",
       "      <td>0.71046</td>\n",
       "    </tr>\n",
       "    <tr>\n",
       "      <th>kNN</th>\n",
       "      <td>0.684827</td>\n",
       "      <td>0.0381856</td>\n",
       "      <td>0.664624</td>\n",
       "    </tr>\n",
       "    <tr>\n",
       "      <th>ElasticNet</th>\n",
       "      <td>0.66833</td>\n",
       "      <td>0.0313768</td>\n",
       "      <td>0.649907</td>\n",
       "    </tr>\n",
       "    <tr>\n",
       "      <th>RandomForest</th>\n",
       "      <td>0.640315</td>\n",
       "      <td>0.0258163</td>\n",
       "      <td>0.636264</td>\n",
       "    </tr>\n",
       "    <tr>\n",
       "      <th>kSVM poly</th>\n",
       "      <td>0.652695</td>\n",
       "      <td>0.0484537</td>\n",
       "      <td>0.618876</td>\n",
       "    </tr>\n",
       "    <tr>\n",
       "      <th>kSVM linear</th>\n",
       "      <td>0.652786</td>\n",
       "      <td>0.0483331</td>\n",
       "      <td>0.618473</td>\n",
       "    </tr>\n",
       "  </tbody>\n",
       "</table>\n",
       "</div>"
      ],
      "text/plain": [
       "              mean_score_CV std_score_CV test_score\n",
       "kSVM gaussian      0.743616    0.0299048   0.730872\n",
       "AdaBoost           0.718436    0.0359817    0.71046\n",
       "kNN                0.684827    0.0381856   0.664624\n",
       "ElasticNet          0.66833    0.0313768   0.649907\n",
       "RandomForest       0.640315    0.0258163   0.636264\n",
       "kSVM poly          0.652695    0.0484537   0.618876\n",
       "kSVM linear        0.652786    0.0483331   0.618473"
      ]
     },
     "execution_count": 24,
     "metadata": {},
     "output_type": "execute_result"
    }
   ],
   "source": [
    "# Initializing a Pandas.DataFrame for results\n",
    "results_df = pd.DataFrame(columns = ['mean_score_CV', 'std_score_CV', 'test_score'])\n",
    "\n",
    "# Getting result for best_estimator of each model\n",
    "for model, model_CVsearch in CVsearch_dict.items():\n",
    "    \n",
    "    # Creating a new row in the pd.DataFrame\n",
    "    results_df.loc[model] = [0, 0, 0]\n",
    "    \n",
    "    # Adding cross-validated score of best_estimator in the pd.DataFrame\n",
    "    mean_score_CV = model_CVsearch.best_score_\n",
    "    results_df.loc[model]['mean_score_CV'] = mean_score_CV\n",
    "    \n",
    "    # Adding cross-validated score standard deviation for best_estimators\n",
    "    std_score_CV = CVsearch_dict[model].cv_results_['std_test_score'][CVsearch_dict[model].best_index_]\n",
    "    results_df.loc[model]['std_score_CV'] = std_score_CV\n",
    "    \n",
    "    # Adding test score of best_estimator in the pd.DataFrame\n",
    "    score_test = model_CVsearch.best_estimator_.score(X_test, y_test)\n",
    "    results_df.loc[model]['test_score'] = score_test\n",
    "    \n",
    "results_df = results_df.sort_values(by='test_score', ascending=False)\n",
    "results_df"
   ]
  },
  {
   "cell_type": "code",
   "execution_count": 25,
   "metadata": {
    "Collapsed": "false",
    "jupyter": {
     "source_hidden": true
    }
   },
   "outputs": [
    {
     "data": {
      "image/png": "[encoded data removed]",
      "text/plain": [
       "<Figure size 864x360 with 1 Axes>"
      ]
     },
     "metadata": {
      "needs_background": "light"
     },
     "output_type": "display_data"
    }
   ],
   "source": [
    "import matplotlib.pyplot as plt\n",
    "\n",
    "# Plotting with a bar plot\n",
    "x = np.arange(len(results_df))  # the label locations\n",
    "width = 0.35  # the width of the bars\n",
    "\n",
    "fig, ax = plt.subplots(figsize=(12,5))\n",
    "rects1 = ax.bar(x - width/2, results_df['mean_score_CV'], width, yerr=results_df['std_score_CV'], label='Mean score CV')\n",
    "rects2 = ax.bar(x + width/2, results_df['test_score'], width, label='Test score')\n",
    "\n",
    "plt.title('Scores of best estimators\\n', fontsize = 20)\n",
    "plt.xlabel('\\nModels', fontsize = 15)\n",
    "plt.ylabel('Scores R²', fontsize = 15)\n",
    "\n",
    "ax.set_ylim(top=1)\n",
    "\n",
    "plt.xticks(x, results_df.index)\n",
    "ax.legend();\n",
    "\n",
    "fig.savefig('plots/scoresR2.png');"
   ]
  },
  {
   "cell_type": "markdown",
   "metadata": {
    "Collapsed": "false"
   },
   "source": [
    "### Comparaison des différentes **métriques** de performance pour les modèles"
   ]
  },
  {
   "cell_type": "markdown",
   "metadata": {
    "Collapsed": "false"
   },
   "source": [
    "$$R^{2} = 1 - \\frac{\\sum\\limits_{i=1}^n (y_i - \\hat{y_i})^2}{\\sum\\limits_{i=1}^n (y_i - \\bar{y})^2}    ;    MSE = \\frac{1}{n} \\sum\\limits_{i=1}^n (y_i - \\hat{y_i})^{2}    ;   MAE = \\frac{1}{n} \\sum\\limits_{i=1}^n |y_i - \\hat{y_i}| $$"
   ]
  },
  {
   "cell_type": "code",
   "execution_count": 26,
   "metadata": {
    "Collapsed": "false",
    "jupyter": {
     "source_hidden": true
    }
   },
   "outputs": [
    {
     "data": {
      "text/html": [
       "<div>\n",
       "<style scoped>\n",
       "    .dataframe tbody tr th:only-of-type {\n",
       "        vertical-align: middle;\n",
       "    }\n",
       "\n",
       "    .dataframe tbody tr th {\n",
       "        vertical-align: top;\n",
       "    }\n",
       "\n",
       "    .dataframe thead th {\n",
       "        text-align: right;\n",
       "    }\n",
       "</style>\n",
       "<table border=\"1\" class=\"dataframe\">\n",
       "  <thead>\n",
       "    <tr style=\"text-align: right;\">\n",
       "      <th></th>\n",
       "      <th>R² scores</th>\n",
       "      <th>MAE scores</th>\n",
       "      <th>MSE scores</th>\n",
       "    </tr>\n",
       "  </thead>\n",
       "  <tbody>\n",
       "    <tr>\n",
       "      <th>kSVM gaussian</th>\n",
       "      <td>0.730872</td>\n",
       "      <td>0.506270</td>\n",
       "      <td>0.488664</td>\n",
       "    </tr>\n",
       "    <tr>\n",
       "      <th>AdaBoost</th>\n",
       "      <td>0.710460</td>\n",
       "      <td>0.546200</td>\n",
       "      <td>0.525726</td>\n",
       "    </tr>\n",
       "    <tr>\n",
       "      <th>kNN</th>\n",
       "      <td>0.664624</td>\n",
       "      <td>0.569964</td>\n",
       "      <td>0.608950</td>\n",
       "    </tr>\n",
       "    <tr>\n",
       "      <th>ElasticNet</th>\n",
       "      <td>0.649907</td>\n",
       "      <td>0.603115</td>\n",
       "      <td>0.635674</td>\n",
       "    </tr>\n",
       "    <tr>\n",
       "      <th>RandomForest</th>\n",
       "      <td>0.636264</td>\n",
       "      <td>0.657260</td>\n",
       "      <td>0.660444</td>\n",
       "    </tr>\n",
       "    <tr>\n",
       "      <th>kSVM poly</th>\n",
       "      <td>0.618876</td>\n",
       "      <td>0.599182</td>\n",
       "      <td>0.692017</td>\n",
       "    </tr>\n",
       "    <tr>\n",
       "      <th>kSVM linear</th>\n",
       "      <td>0.618473</td>\n",
       "      <td>0.599201</td>\n",
       "      <td>0.692748</td>\n",
       "    </tr>\n",
       "  </tbody>\n",
       "</table>\n",
       "</div>"
      ],
      "text/plain": [
       "               R² scores  MAE scores  MSE scores\n",
       "kSVM gaussian   0.730872    0.506270    0.488664\n",
       "AdaBoost        0.710460    0.546200    0.525726\n",
       "kNN             0.664624    0.569964    0.608950\n",
       "ElasticNet      0.649907    0.603115    0.635674\n",
       "RandomForest    0.636264    0.657260    0.660444\n",
       "kSVM poly       0.618876    0.599182    0.692017\n",
       "kSVM linear     0.618473    0.599201    0.692748"
      ]
     },
     "execution_count": 26,
     "metadata": {},
     "output_type": "execute_result"
    }
   ],
   "source": [
    "# Import the metrics\n",
    "from sklearn.metrics import r2_score\n",
    "from sklearn.metrics import mean_absolute_error\n",
    "from sklearn.metrics import mean_squared_error\n",
    "\n",
    "# Dict of metrics\n",
    "metrics_dict = {'R² scores':r2_score,\n",
    "          'MAE scores':mean_absolute_error,\n",
    "          'MSE scores':mean_squared_error,}\n",
    "\n",
    "# Initializing a Pandas.DataFrame for results\n",
    "results_df = pd.DataFrame(columns=list(metrics_dict.keys()))\n",
    "\n",
    "# Iterating over models\n",
    "for model_name, model_CVsearch in CVsearch_dict.items():\n",
    "    \n",
    "    # Creating a new row for the model\n",
    "    results_df.loc[model_name] = np.zeros(len(metrics_dict))\n",
    "    \n",
    "    # Getting the best_estimator from the GridSearch\n",
    "    model = model_CVsearch.best_estimator_\n",
    "    \n",
    "    # Calculating predicted values on test set\n",
    "    y_pred = model.predict(X_test)\n",
    "    \n",
    "    # for each metric…\n",
    "    for metric_name, metric in metrics_dict.items():\n",
    "        # Calculating metric value on test set\n",
    "        score = metric(y_test, y_pred)\n",
    "        # Adding the score to the result summary\n",
    "        results_df.loc[model_name][metric_name] = score\n",
    "        \n",
    "# Sort and Display results\n",
    "results_df = results_df.sort_values(by='R² scores', ascending=False)\n",
    "results_df"
   ]
  },
  {
   "cell_type": "code",
   "execution_count": 27,
   "metadata": {
    "Collapsed": "false",
    "jupyter": {
     "source_hidden": true
    }
   },
   "outputs": [
    {
     "data": {
      "image/png": "[encoded data removed]",
      "text/plain": [
       "<Figure size 720x432 with 1 Axes>"
      ]
     },
     "metadata": {
      "needs_background": "light"
     },
     "output_type": "display_data"
    }
   ],
   "source": [
    "import matplotlib.pyplot as plt\n",
    "import matplotlib.gridspec as gridspec\n",
    "\n",
    "fig = plt.figure()\n",
    "\n",
    "# Set properties of the figure\n",
    "fig.set_figheight(6)\n",
    "fig.set_figwidth(10)\n",
    "fig.suptitle('Performance of models on different metrics', fontsize=20)\n",
    "\n",
    "# Set the geometry of the grid of subplots\n",
    "gs = gridspec.GridSpec(nrows=1, ncols=1,)\n",
    "\n",
    "# Initialize axes and set position (left to right, top to bottom)\n",
    "# Use sharex or sharey parameter for sharing axis\n",
    "ax1 = fig.add_subplot(gs[0])\n",
    "\n",
    "# Filling the axes\n",
    "results_df.T.plot.bar(ax=ax1)\n",
    "\n",
    "# Rotation of ticks labels\n",
    "plt.setp(ax1.get_xticklabels(), rotation='horizontal')\n",
    "\n",
    "# Automatically adjusts subplots params to fit the figure\n",
    "gs.tight_layout(fig, rect=[0, 0, 1, 0.96])\n",
    "\n",
    "fig.savefig('plots/metrics.png');"
   ]
  },
  {
   "cell_type": "markdown",
   "metadata": {
    "Collapsed": "false"
   },
   "source": [
    "Nous avons: $R^{2} = 1 - \\frac{\\sqrt{MSE}}{\\sigma^2}$"
   ]
  },
  {
   "cell_type": "markdown",
   "metadata": {
    "Collapsed": "false"
   },
   "source": [
    "### **Prédictions vs valeurs réelles** (sur le jeu de test)"
   ]
  },
  {
   "cell_type": "code",
   "execution_count": 28,
   "metadata": {
    "Collapsed": "false",
    "jupyter": {
     "source_hidden": true
    }
   },
   "outputs": [
    {
     "data": {
      "image/png": "[encoded data removed]",
      "text/plain": [
       "<Figure size 1080x432 with 1 Axes>"
      ]
     },
     "metadata": {
      "needs_background": "light"
     },
     "output_type": "display_data"
    }
   ],
   "source": [
    "import matplotlib.pyplot as plt\n",
    "\n",
    "# Defining the real values for target feature\n",
    "y_real = y_test\n",
    "\n",
    "# Calculating predictions on testing set\n",
    "y_predicted = model_GHG.predict(X_test)\n",
    "\n",
    "# Setting parameters of the plot\n",
    "fig = plt.figure(figsize=(15, 6))\n",
    "plt.title('Real values versus Predictions ({})'.format(target_feature), fontsize=20)\n",
    "plt.xlabel('Real values', fontsize=15)\n",
    "plt.ylabel('Predicted values', fontsize=15)\n",
    "\n",
    "# Plotting the scatter plot\n",
    "plt.scatter(y_real, y_predicted)\n",
    "\n",
    "# Plotting the x=y line\n",
    "plot = plt.plot(y_real, y_real, color='red')\n",
    "\n",
    "fig.savefig('plots/PredictedVsReal.png');"
   ]
  },
  {
   "cell_type": "markdown",
   "metadata": {
    "Collapsed": "false"
   },
   "source": [
    "## **Importance des caractéristiques** (*features importance*)\n",
    "Certains modèles permettent d'inspecter l'importance relative des variables explicatives :\n",
    "* la régression linéaire (ElasticNet)\n",
    "* la forêt aléatoire (RandomForest)\n",
    "* la méthode de boosting (AdaBoost)"
   ]
  },
  {
   "cell_type": "code",
   "execution_count": 29,
   "metadata": {
    "Collapsed": "false",
    "jupyter": {
     "source_hidden": true
    }
   },
   "outputs": [
    {
     "data": {
      "text/html": [
       "<div>\n",
       "<style scoped>\n",
       "    .dataframe tbody tr th:only-of-type {\n",
       "        vertical-align: middle;\n",
       "    }\n",
       "\n",
       "    .dataframe tbody tr th {\n",
       "        vertical-align: top;\n",
       "    }\n",
       "\n",
       "    .dataframe thead th {\n",
       "        text-align: right;\n",
       "    }\n",
       "</style>\n",
       "<table border=\"1\" class=\"dataframe\">\n",
       "  <thead>\n",
       "    <tr style=\"text-align: right;\">\n",
       "      <th></th>\n",
       "      <th>ElasticNet</th>\n",
       "      <th>RandomForest</th>\n",
       "      <th>AdaBoost</th>\n",
       "      <th>Mean</th>\n",
       "    </tr>\n",
       "  </thead>\n",
       "  <tbody>\n",
       "    <tr>\n",
       "      <th>LargestPropertyUseTypeGFA</th>\n",
       "      <td>0.287952</td>\n",
       "      <td>0.366253</td>\n",
       "      <td>0.523582</td>\n",
       "      <td>0.392596</td>\n",
       "    </tr>\n",
       "    <tr>\n",
       "      <th>SteamUse</th>\n",
       "      <td>0.219972</td>\n",
       "      <td>0.226947</td>\n",
       "      <td>0.280591</td>\n",
       "      <td>0.242503</td>\n",
       "    </tr>\n",
       "    <tr>\n",
       "      <th>FloorsGFA</th>\n",
       "      <td>0.092299</td>\n",
       "      <td>0.145151</td>\n",
       "      <td>0.090950</td>\n",
       "      <td>0.109467</td>\n",
       "    </tr>\n",
       "    <tr>\n",
       "      <th>PropertyGFAParking</th>\n",
       "      <td>0.089741</td>\n",
       "      <td>0.032965</td>\n",
       "      <td>0.044006</td>\n",
       "      <td>0.055570</td>\n",
       "    </tr>\n",
       "    <tr>\n",
       "      <th>ComplianceStatus</th>\n",
       "      <td>0.064158</td>\n",
       "      <td>0.072702</td>\n",
       "      <td>0.000744</td>\n",
       "      <td>0.045868</td>\n",
       "    </tr>\n",
       "  </tbody>\n",
       "</table>\n",
       "</div>"
      ],
      "text/plain": [
       "                           ElasticNet  RandomForest  AdaBoost      Mean\n",
       "LargestPropertyUseTypeGFA    0.287952      0.366253  0.523582  0.392596\n",
       "SteamUse                     0.219972      0.226947  0.280591  0.242503\n",
       "FloorsGFA                    0.092299      0.145151  0.090950  0.109467\n",
       "PropertyGFAParking           0.089741      0.032965  0.044006  0.055570\n",
       "ComplianceStatus             0.064158      0.072702  0.000744  0.045868"
      ]
     },
     "execution_count": 29,
     "metadata": {},
     "output_type": "execute_result"
    }
   ],
   "source": [
    "# Getting name of features from initial data\n",
    "features_names = list(X)\n",
    "\n",
    "# Creating a Pandas DataFrame\n",
    "features_importance = pd.DataFrame(index=features_names)\n",
    "\n",
    "# Features importance for each model (dropping indicators of imputation)\n",
    "#-----------------------------------\n",
    "# ElasticNet\n",
    "features_importances = CVsearch_dict['ElasticNet'].best_estimator_.get_params()['regressor'].coef_\n",
    "features_importance['ElasticNet'] = features_importances[:len(features_names)]\n",
    "# RandomForest\n",
    "features_importances = CVsearch_dict['RandomForest'].best_estimator_.get_params()['regressor'].feature_importances_\n",
    "features_importance['RandomForest'] = features_importances[:len(features_names)]\n",
    "# AdaBoost\n",
    "features_importances = CVsearch_dict['AdaBoost'].best_estimator_.get_params()['regressor'].feature_importances_\n",
    "features_importance['AdaBoost'] = features_importances[:len(features_names)]\n",
    "\n",
    "# Computing relative importance\n",
    "for column in list(features_importance):\n",
    "    features_importance[column] = features_importance[column].map(abs)\n",
    "    features_importance[column] /= features_importance[column].sum()\n",
    "\n",
    "# Computing \"mean importance\", and sorting\n",
    "features_importance[\"Mean\"] = features_importance.mean(axis=1)\n",
    "features_importance = features_importance.sort_values(by=\"Mean\", ascending=False)\n",
    "\n",
    "features_importance.head()"
   ]
  },
  {
   "cell_type": "code",
   "execution_count": 30,
   "metadata": {
    "Collapsed": "false",
    "jupyter": {
     "source_hidden": true
    }
   },
   "outputs": [
    {
     "data": {
      "image/png": "[encoded data removed]",
      "text/plain": [
       "<Figure size 1080x432 with 1 Axes>"
      ]
     },
     "metadata": {
      "needs_background": "light"
     },
     "output_type": "display_data"
    }
   ],
   "source": [
    "fig = plt.figure()\n",
    "\n",
    "# Set properties of the figure\n",
    "fig.set_figheight(6)\n",
    "fig.set_figwidth(15)\n",
    "fig.suptitle('       Features importance (sorted by mean)', fontsize=25)\n",
    "\n",
    "# Set the geometry of the grid of subplots\n",
    "gs = gridspec.GridSpec(\n",
    "    # number of rows and columns\n",
    "    nrows=1,\n",
    "    ncols=1,\n",
    "    # adjust relative dimensions\n",
    "    #height_ratios=[3, 1], # heights of rows\n",
    "    #width_ratios=[1], # width of columns\n",
    "    )\n",
    "\n",
    "# Initialize axes and set position (left to right, top to bottom)\n",
    "# Use sharex or sharey parameter for sharing axis\n",
    "ax1 = fig.add_subplot(gs[0])\n",
    "\n",
    "# Filling the axes\n",
    "features_importance.plot.bar(ax=ax1);\n",
    "fig.savefig('plots/FeaturesImportance.png');"
   ]
  },
  {
   "cell_type": "markdown",
   "metadata": {
    "Collapsed": "false"
   },
   "source": [
    "## Intérêt de la variable **'ENERGY STAR Score'**\n",
    "\n",
    "Nous cherchons en particulier à évaluer l'intérêt de l’'ENERGY STAR Score' ([www.energystar.gov](https://www.energystar.gov/buildings/facility-owners-and-managers/existing-buildings/use-portfolio-manager/interpret-your-results/what)) pour la prédiction d’émissions, qui est fastidieux à calculer avec l’approche utilisée actuellement par l'équipe.\n",
    "* 'ENERGYSTARScore' : An EPA calculated 1-100 rating that assesses a property’s overall energy performance, based on national data to control for differences among climate, building uses, and operations. A score of 50 represents the national median."
   ]
  },
  {
   "cell_type": "code",
   "execution_count": 31,
   "metadata": {
    "Collapsed": "false",
    "jupyter": {
     "source_hidden": true
    }
   },
   "outputs": [
    {
     "data": {
      "image/png": "[encoded data removed]",
      "text/plain": [
       "<Figure size 432x432 with 1 Axes>"
      ]
     },
     "metadata": {},
     "output_type": "display_data"
    }
   ],
   "source": [
    "# Setting labels of the pie-plot\n",
    "labels = ['ENERGYSTARScore', 'other features']\n",
    "\n",
    "# Getting the relative importance of 'ENERGYSTARScore'\n",
    "sizes = [features_importance.loc['ENERGYSTARScore', \"Mean\"], 1-features_importance.loc['ENERGYSTARScore', \"Mean\"]]\n",
    "\n",
    "# only \"explode\" the 'ENERGYSTARScore' slice\n",
    "explode = (0.1, 0) \n",
    "\n",
    "fig, ax1 = plt.subplots(figsize=(6, 6))\n",
    "\n",
    "ax1.pie(sizes, explode=explode, labels=labels, autopct='%1.1f%%',\n",
    "        shadow=False, startangle=0)\n",
    "ax1.axis('equal')  # Equal aspect ratio ensures that pie is drawn as a circle.\n",
    "plt.title(\"(Mean) Importance of 'ENERGYSTARScore'\", fontsize=20)\n",
    "plt.show()\n",
    "fig.savefig('plots/EnergyStar.png');"
   ]
  },
  {
   "cell_type": "markdown",
   "metadata": {
    "Collapsed": "false"
   },
   "source": [
    "Nous constatons que la variable 'ENERGYSTARScore' possède une **importance négligeable** dans les modèles entraînées. Si cet indicateur est fastidieux à calculer, il pourrait être abandonné sans dommage pour les performances du modèle."
   ]
  },
  {
   "cell_type": "markdown",
   "metadata": {
    "Collapsed": "false"
   },
   "source": [
    "## **Effets de la taille du jeu de données** d'entraînement (*learning curve*)\n",
    "Nous étudions l'impact de la taille du jeu de données d'entraînement pour déterminer si notre modèle gagnerait en exactitude à être entraîné sur un nombre plus important de données. Autrement dit : la ville de Seattle pourrait-elle déjà utiliser le modèle, ou devrait-elle continuer à collecter des données ?\n",
    "\n",
    "Pour obtenir les résultats les plus fiables possibles, et estimer la variance de nos résultats, nous allons utiliser une **validation croisée**."
   ]
  },
  {
   "cell_type": "markdown",
   "metadata": {
    "Collapsed": "false",
    "jupyter": {
     "source_hidden": true
    }
   },
   "source": [
    "### Définition du **générateur** de validation croisée"
   ]
  },
  {
   "cell_type": "code",
   "execution_count": 32,
   "metadata": {
    "Collapsed": "false",
    "jupyter": {
     "source_hidden": true
    }
   },
   "outputs": [],
   "source": [
    "from sklearn.model_selection import KFold\n",
    "\n",
    "# Define the cross-validation generator\n",
    "cv_learning = KFold(\n",
    "    n_splits=3, # number of folds (default=5)\n",
    "    shuffle=True, # shuffle the data before splitting into batche\n",
    "    random_state=seed, # seeding the random number generator for shuffling\n",
    ")"
   ]
  },
  {
   "cell_type": "markdown",
   "metadata": {
    "Collapsed": "false"
   },
   "source": [
    "### Évaluation du modèle sur des jeux d'entraînement de **taille croissante**"
   ]
  },
  {
   "cell_type": "code",
   "execution_count": 33,
   "metadata": {
    "Collapsed": "false",
    "jupyter": {
     "source_hidden": true
    }
   },
   "outputs": [],
   "source": [
    "from sklearn.model_selection import learning_curve\n",
    "\n",
    "# Create CV training and test scores for various training test sizes\n",
    "train_sizes, train_scores, test_scores = learning_curve(\n",
    "    model_GHG, # estimator\n",
    "    X, # features\n",
    "    y, # target\n",
    "    cv=cv_learning, # cross-validation generator\n",
    "    scoring='r2', # performance metric\n",
    "    n_jobs=-1, # use all computer cores\n",
    "    train_sizes=np.linspace(0.01, 0.99, 50), # 50 training sets\n",
    ")"
   ]
  },
  {
   "cell_type": "markdown",
   "metadata": {
    "Collapsed": "false",
    "jupyter": {
     "source_hidden": true
    }
   },
   "source": [
    "### Calcul des **moyennes et écarts-types**"
   ]
  },
  {
   "cell_type": "code",
   "execution_count": 34,
   "metadata": {
    "Collapsed": "false",
    "jupyter": {
     "source_hidden": true
    }
   },
   "outputs": [],
   "source": [
    "# Create means and standard deviations of training set scores\n",
    "train_mean = np.mean(train_scores, axis=1)\n",
    "train_std = np.std(train_scores, axis=1)\n",
    "\n",
    "# Create means and standard deviations of test set scores\n",
    "test_mean = np.mean(test_scores, axis=1)\n",
    "test_std = np.std(test_scores, axis=1)"
   ]
  },
  {
   "cell_type": "markdown",
   "metadata": {
    "Collapsed": "false"
   },
   "source": [
    "### **Courbe d'apprentissage**"
   ]
  },
  {
   "cell_type": "code",
   "execution_count": 35,
   "metadata": {
    "Collapsed": "false",
    "jupyter": {
     "source_hidden": true
    }
   },
   "outputs": [],
   "source": [
    "# We change negative values to zero to avoid crushing the graph\n",
    "train_mean = [0 if score < 0 else score for score in train_mean]\n",
    "test_mean = [0 if score < 0 else score for score in test_mean]"
   ]
  },
  {
   "cell_type": "code",
   "execution_count": 36,
   "metadata": {
    "Collapsed": "false",
    "jupyter": {
     "source_hidden": true
    }
   },
   "outputs": [
    {
     "data": {
      "image/png": "[encoded data removed]",
      "text/plain": [
       "<Figure size 1296x576 with 1 Axes>"
      ]
     },
     "metadata": {},
     "output_type": "display_data"
    }
   ],
   "source": [
    "# Loading libraries\n",
    "import matplotlib.pyplot as plt\n",
    "import matplotlib.ticker as ticker\n",
    "import seaborn as sns\n",
    "sns.set()\n",
    "\n",
    "# Setting main properties\n",
    "fig, ax = plt.subplots(figsize=(18, 8))\n",
    "plt.title(\"Learning curve\", fontsize=30)\n",
    "plt.xlabel(\"Size of the training set\", fontsize=20)\n",
    "plt.ylabel(\"Performance (R²-score)\", fontsize=20)\n",
    "ax.set_ylim(top=1)\n",
    "\n",
    "# Draw bands (for standard deviation)\n",
    "plt.fill_between(train_sizes, train_mean - train_std, train_mean + train_std, color=\"#DDDDDD\")\n",
    "plt.fill_between(train_sizes, test_mean - test_std, test_mean + test_std, color=\"#DDDDDD\")\n",
    "\n",
    "# Graphing the plot\n",
    "ax.plot(train_sizes, train_mean, label='Training score')\n",
    "ax.plot(train_sizes, test_mean, label='CV score')\n",
    "plt.legend(loc='best', fontsize=15);\n",
    "\n",
    "fig.savefig('plots/learning_curve.png');"
   ]
  },
  {
   "cell_type": "markdown",
   "metadata": {
    "Collapsed": "false"
   },
   "source": [
    "## **Impact du nombre d'arbres** de la forêt aléatoire\n",
    "Nous avons séléctionnés arbitrairement un nombre d'arbres égal à 1'000. Les forêts ont ceci de particulier, que la précision ne peut qu'augmenter avec le nombre d'arbres.\n",
    "Nous allons regarder quel est l'impact du nombre d'arbres sur les performances (précision, temps d'entraînement et temps de prédiction) du modèle."
   ]
  },
  {
   "cell_type": "code",
   "execution_count": 37,
   "metadata": {
    "Collapsed": "false"
   },
   "outputs": [],
   "source": [
    "import math\n",
    "\n",
    "# Getting best parameters of the RandomForest model\n",
    "#--------------------------------------------------\n",
    "# Initializing dictionnary of parameters for RandomForest\n",
    "params_dict = {}\n",
    "\n",
    "# Getting the name of the parameter from search space\n",
    "for parameter, _ in param_grids['RandomForest'][0].items():\n",
    "    if parameter != 'regressor':\n",
    "        \n",
    "        # Getting the value of the fitted parameter\n",
    "        # best_parameter = best_model.get_params()[parameter]\n",
    "        best_parameter = CVsearch_dict['RandomForest'].best_estimator_.get_params()[parameter]\n",
    "        \n",
    "        # Getting the truncated name of the parameter\n",
    "        parameter = parameter.split(\"regressor__\")[1]\n",
    "        \n",
    "        # Add parameter to dictionnary\n",
    "        params_dict[parameter] = best_parameter\n",
    "\n",
    "# Training, timing and scoring models\n",
    "#------------------------------------\n",
    "# Initializations\n",
    "n_estimators_list = []\n",
    "times_train = []\n",
    "scores_oob = []\n",
    "times_predict = []\n",
    "NB_POINTS = 15\n",
    "MAX_ESTIMATORS = 10000\n",
    "\n",
    "# Iterating on the number of the trees (from 10¹ to 10⁵)\n",
    "# for n_estimators in np.logspace(2, 4, 15):\n",
    "    # n_estimators has to be an integer\n",
    "    # n_estimators = math.floor(n_estimators)\n",
    "    # n_estimators_list.append(n_estimators)\n",
    "\n",
    "# Iterating on points\n",
    "for i in range(1, NB_POINTS+1):\n",
    "    n_estimators = math.floor(MAX_ESTIMATORS/i)\n",
    "    n_estimators_list.append(n_estimators)\n",
    "    \n",
    "    # Instanciating the model\n",
    "    forestregressor = RandomForestRegressor(\n",
    "        n_estimators=n_estimators,\n",
    "        n_jobs=-1,\n",
    "        oob_score=True,\n",
    "        random_state=seed,\n",
    "        **params_dict)\n",
    "    \n",
    "    # Define pipeline with preprocessing and dummy model\n",
    "    forestmodel = define_pipeline(preprocessor, forestregressor)\n",
    "    \n",
    "    # Training the model and evaluating training time (on whole data set)\n",
    "    time_train = %timeit -n1 -r1 -o -q forestmodel.fit(X, y)\n",
    "    times_train.append(time_train.average)\n",
    "\n",
    "    # Évaluating the accuracy of the forest on out-of-bag error\n",
    "    score_oob_list = []\n",
    "    for k in range(i): # iterating for stability\n",
    "        forestmodel = define_pipeline(preprocessor, forestregressor)\n",
    "        forestmodel.fit(X, y)\n",
    "        score_oob = forestregressor.oob_score_\n",
    "        score_oob_list.append(score_oob)\n",
    "    # Computing the mean and adding to list of results\n",
    "    score_oob_mean = sum(score_oob_list)/len(score_oob_list)\n",
    "    scores_oob.append(score_oob_mean)\n",
    "    \n",
    "    # Évaluating predict time on a sample of size 1'000\n",
    "    X_sample = X_train[:1000]\n",
    "    time_predict = %timeit -n1 -r3 -o -q forestmodel.predict(X_sample)\n",
    "    times_predict.append(time_predict.average)"
   ]
  },
  {
   "cell_type": "code",
   "execution_count": 38,
   "metadata": {
    "Collapsed": "false",
    "jupyter": {
     "source_hidden": true
    }
   },
   "outputs": [
    {
     "data": {
      "image/png": "[encoded data removed]",
      "text/plain": [
       "<Figure size 864x432 with 3 Axes>"
      ]
     },
     "metadata": {},
     "output_type": "display_data"
    }
   ],
   "source": [
    "# Set the axis for the score\n",
    "def scores_forest_axes(ax=None):\n",
    "    \n",
    "    x = n_estimators_list\n",
    "    y = scores_oob\n",
    "    \n",
    "    # Content of the axes\n",
    "    ax.plot(x, y, 'o-')\n",
    "    \n",
    "    # Properties of the axes\n",
    "    ax.set_title('Accuracy performance')\n",
    "    ax.set_xlabel('n_estimators')\n",
    "    ax.set_ylabel('score R²')\n",
    "\n",
    "# Set the axis for the training time\n",
    "#-----------------------------------\n",
    "def training_time_forest_axes(ax=None):\n",
    "    \n",
    "    x = n_estimators_list\n",
    "    y = times_train\n",
    "    \n",
    "    # Content of the axes\n",
    "    ax.plot(x, y, 'o-')\n",
    "    \n",
    "    # Properties of the axes\n",
    "    ax.set_title('Training time')\n",
    "    ax.set_xlabel('n_estimators')\n",
    "    ax.set_ylabel('time (s)')\n",
    "\n",
    "# Set the axis for the predicting time\n",
    "#----------------------------------\n",
    "def predicting_time_forest_axes(ax=None):\n",
    "    \n",
    "    x = n_estimators_list\n",
    "    y = times_predict\n",
    "    \n",
    "    # Content of the axes\n",
    "    ax.plot(x, y, 'o-')\n",
    "    \n",
    "    # Properties of the axes\n",
    "    ax.set_title('Predicting time')\n",
    "    ax.set_xlabel('n_estimators')\n",
    "    ax.set_ylabel('time (s)')\n",
    "\n",
    "# Set the whole figure\n",
    "#---------------------\n",
    "import matplotlib.pyplot as plt\n",
    "import matplotlib.gridspec as gridspec\n",
    "\n",
    "fig = plt.figure()\n",
    "\n",
    "# Set properties of the figure\n",
    "fig.set_figheight(6)\n",
    "fig.set_figwidth(12)\n",
    "fig.suptitle('Performance vs nb_estimators for RandomForest', fontsize=16)\n",
    "\n",
    "# Set the geometry of the grid of subplots\n",
    "gs = gridspec.GridSpec(nrows=1, ncols=3,)\n",
    "\n",
    "# Initialize axes and set position (left to right, top to bottom)\n",
    "# Use sharex or sharey parameter for sharing axis\n",
    "ax1 = fig.add_subplot(gs[0])\n",
    "ax2 = fig.add_subplot(gs[1])\n",
    "ax3 = fig.add_subplot(gs[2])\n",
    "\n",
    "# Call to the functions that fill the axes\n",
    "scores_forest_axes(ax1)\n",
    "training_time_forest_axes(ax2)\n",
    "predicting_time_forest_axes(ax3)\n",
    "\n",
    "# Automatically adjusts subplots params to fit the figure\n",
    "gs.tight_layout(fig, rect=[0, 0, 1, 0.96])\n",
    "\n",
    "fig.savefig('plots/RF_nbtrees.png');"
   ]
  },
  {
   "cell_type": "markdown",
   "metadata": {
    "Collapsed": "false"
   },
   "source": [
    "Nous constatons une augmentation asymptotique du score R² mais une croissance linéaire du temps d'entraînement et du temps de prédiction."
   ]
  },
  {
   "cell_type": "markdown",
   "metadata": {
    "Collapsed": "false"
   },
   "source": [
    "# **3. Expérimentations** diverses"
   ]
  },
  {
   "cell_type": "code",
   "execution_count": 39,
   "metadata": {
    "Collapsed": "false"
   },
   "outputs": [],
   "source": [
    "def build_model(features, target):\n",
    "    \"\"\"\n",
    "    This function proceed to all the steps for building a model:\n",
    "    - Fitting and applying preprocessor\n",
    "    - Proceeding to the RandomizedSearchCV\n",
    "    - Getting and returning \"best model\" from C.V.\n",
    "    \"\"\"\n",
    "    \n",
    "    # Built preprocessing step adapted to the shape of X\n",
    "    preprocessor = define_preprocessor(features)\n",
    "\n",
    "    # Define pipeline with preprocessing and dummy model\n",
    "    from sklearn.dummy import DummyRegressor\n",
    "    pipe = define_pipeline(preprocessor, DummyRegressor())\n",
    "    \n",
    "    # Fitting pipeline\n",
    "    #pipe.fit(features, target) - already in random_searchCV\n",
    "\n",
    "    # Proceed the RandomizedSearchCV\n",
    "    CVsearch_dict = random_searchCV(features, target, pipe)\n",
    "\n",
    "    # Getting best_model from the RandomizedSearchCV\n",
    "    best_model = get_best_model(CVsearch_dict)\n",
    "\n",
    "    # Returns the best model\n",
    "    return best_model"
   ]
  },
  {
   "cell_type": "markdown",
   "metadata": {
    "Collapsed": "false"
   },
   "source": [
    "##  **Tentative d'hybridation** (*model stacking*)"
   ]
  },
  {
   "cell_type": "markdown",
   "metadata": {
    "Collapsed": "false"
   },
   "source": [
    "### Séparation d'un jeu de validation (ou de développement) à partir du jeu de test"
   ]
  },
  {
   "cell_type": "code",
   "execution_count": 40,
   "metadata": {
    "Collapsed": "false",
    "jupyter": {
     "source_hidden": true
    }
   },
   "outputs": [],
   "source": [
    "# Creating target vector\n",
    "target_feature = 'TotalGHGEmissions'\n",
    "y = data[target_feature]\n",
    "\n",
    "# Getting features matrix\n",
    "X = data.drop(columns=['SiteEnergyUse(kBtu)', 'TotalGHGEmissions'])\n",
    "\n",
    "# Splitting in training, validation and testing sets\n",
    "(X_train, X_test, y_train, y_test) = split_data(X, y);\n",
    "\n",
    "# Splitting the test set in validation set and test set\n",
    "SIZE = int(len(X_test)/2)\n",
    "\n",
    "X_valid = X_test[:SIZE]\n",
    "y_valid = y_test[:SIZE]\n",
    "\n",
    "X_test = X_test[SIZE:]\n",
    "y_test = y_test[SIZE:]"
   ]
  },
  {
   "cell_type": "markdown",
   "metadata": {
    "Collapsed": "false"
   },
   "source": [
    "### Récupération des prédictions de chaque modèle pour les jeux d'entraînement et de test"
   ]
  },
  {
   "cell_type": "code",
   "execution_count": 41,
   "metadata": {
    "Collapsed": "false",
    "jupyter": {
     "source_hidden": true
    }
   },
   "outputs": [],
   "source": [
    "# Initialising the list of models to hybrid\n",
    "bestmodels_list = []\n",
    "\n",
    "# Iteration over models with fitted hyper-parameters\n",
    "for model, _ in param_grids.items():\n",
    "    # Adding best model for each algorithm to the list\n",
    "    bestmodels_list.append(CVsearch_dict[model].best_estimator_)\n",
    "\n",
    "# Initialising the dataframe with predictions from models to stack\n",
    "X_valid_stacked = X_valid.copy()\n",
    "X_test_stacked = X_test.copy()\n",
    "\n",
    "# Getting predictions from each model\n",
    "for index, model in enumerate(bestmodels_list):\n",
    "    X_valid_stacked[\"model_\"+str(index)] = model.predict(X_valid)\n",
    "    X_test_stacked[\"model_\"+str(index)] = model.predict(X_test)\n",
    "\n",
    "# Displays results\n",
    "# X_valid_stacked.head()"
   ]
  },
  {
   "cell_type": "markdown",
   "metadata": {
    "Collapsed": "false"
   },
   "source": [
    "### Instanciation d'un modèle de régression pour le stacking\n",
    "Nous faisons le choix de ne pas optimiser les hyper-paramètres pour simplifier la démarche."
   ]
  },
  {
   "cell_type": "code",
   "execution_count": 42,
   "metadata": {
    "Collapsed": "false",
    "jupyter": {
     "source_hidden": true
    }
   },
   "outputs": [
    {
     "name": "stdout",
     "output_type": "stream",
     "text": [
      "\n",
      "Score of the stack model on test set is: R² = 0.743\n",
      "Compared to the main model, this represent an evolution of: 0.012\n"
     ]
    }
   ],
   "source": [
    "from sklearn.ensemble import RandomForestRegressor\n",
    "\n",
    "# Define the model for stacking\n",
    "stacked_model = RandomForestRegressor(n_estimators=1000, max_features=3)\n",
    "\n",
    "# Re-fit preprocessor\n",
    "stacked_prepro = define_preprocessor(X_valid_stacked)\n",
    "\n",
    "# Re-define the pipeline with preprocessing and LinearRegression\n",
    "stacked_pipe = define_pipeline(stacked_prepro, stacked_model)\n",
    "\n",
    "# Training the model on the X_valid set, with added features\n",
    "stacked_pipe.fit(X_valid_stacked, y_valid)\n",
    "\n",
    "# Scoring (R²) the stacked model\n",
    "score_test = stacked_pipe.score(X_test_stacked, y_test)\n",
    "\n",
    "print(\"\\nScore of the stack model on test set is: R² = {:.3f}\".format(score_test))\n",
    "print(\"Compared to the main model, this represent an evolution of: {:.3f}\".format(score_test-score_test_GHG))"
   ]
  },
  {
   "cell_type": "markdown",
   "metadata": {
    "Collapsed": "false"
   },
   "source": [
    "Il semble que le jeu initial de données soit trop restreint pour que nous puissions tirer avantage du modèle stacking. En effet, la démarche nécessite :\n",
    "* découper le jeu initial en jeu de d'entraînement et jeu de test (si l'on fait une validation croisée)\n",
    "* à nouveau diviser le jeu de test précédent en un jeu d'entraînement et jeu de test pour le modèle hybride (en refaisant une validation croisée pour optimiser les paramètres ou fiabiliser l'évaluation des performances)."
   ]
  },
  {
   "cell_type": "markdown",
   "metadata": {
    "Collapsed": "false"
   },
   "source": [
    "## **Réseaux de neurones** (avec *Keras*)"
   ]
  },
  {
   "cell_type": "code",
   "execution_count": 43,
   "metadata": {
    "Collapsed": "false",
    "jupyter": {
     "source_hidden": true
    }
   },
   "outputs": [],
   "source": [
    "# Creating target vector\n",
    "target_feature = 'TotalGHGEmissions'\n",
    "y = data[target_feature]\n",
    "\n",
    "# Getting features matrix\n",
    "X = data.drop(columns=['SiteEnergyUse(kBtu)', 'TotalGHGEmissions'])\n",
    "\n",
    "# Splitting in training, validation and testing sets\n",
    "(X_train, X_test, y_train, y_test) = split_data(X, y);\n",
    "(X_train, X_val, y_train, y_val) = split_data(X_train, y_train);"
   ]
  },
  {
   "cell_type": "code",
   "execution_count": 44,
   "metadata": {
    "Collapsed": "false",
    "jupyter": {
     "source_hidden": true
    }
   },
   "outputs": [],
   "source": [
    "# Defining preprocessing steps\n",
    "preprocessor = define_preprocessor(X)\n",
    "\n",
    "# Fitting and applying pre-processing\n",
    "X_train = preprocessor.fit_transform(X_train, y_train)\n",
    "X_val = preprocessor.transform(X_val)\n",
    "X_test = preprocessor.transform(X_test)"
   ]
  },
  {
   "cell_type": "code",
   "execution_count": 45,
   "metadata": {
    "Collapsed": "false",
    "collapsed": true,
    "jupyter": {
     "outputs_hidden": true,
     "source_hidden": true
    }
   },
   "outputs": [
    {
     "name": "stderr",
     "output_type": "stream",
     "text": [
      "Using TensorFlow backend.\n"
     ]
    }
   ],
   "source": [
    "from keras import backend as K\n",
    "\n",
    "# Defining custom metric for regression : coefficient of determination R²\n",
    "def coeff_determination(y_true, y_pred):\n",
    "    from keras import backend as K\n",
    "    SS_res =  K.sum(K.square( y_true-y_pred ))\n",
    "    SS_tot = K.sum(K.square( y_true - K.mean(y_true) ) )\n",
    "    return -( 1 - SS_res/(SS_tot + K.epsilon()) ) # set negative for compatibility"
   ]
  },
  {
   "cell_type": "code",
   "execution_count": 46,
   "metadata": {
    "Collapsed": "false",
    "jupyter": {
     "source_hidden": true
    }
   },
   "outputs": [],
   "source": [
    "import keras\n",
    "\n",
    "# Defining callback for early stopping\n",
    "callbacks_list = [\n",
    "    keras.callbacks.EarlyStopping(\n",
    "        monitor='val_coeff_determination', # R^2 score on validation set\n",
    "        patience=2, # interrupt training\n",
    "    ),\n",
    "]"
   ]
  },
  {
   "cell_type": "code",
   "execution_count": 47,
   "metadata": {
    "Collapsed": "false",
    "jupyter": {
     "source_hidden": true
    }
   },
   "outputs": [
    {
     "name": "stdout",
     "output_type": "stream",
     "text": [
      "Train on 2147 samples, validate on 537 samples\n",
      "Epoch 1/45\n",
      "2147/2147 [==============================] - 0s 204us/step - loss: 3.1575 - coeff_determination: 0.8464 - val_loss: 0.9028 - val_coeff_determination: -0.4550\n",
      "Epoch 2/45\n",
      "2147/2147 [==============================] - 0s 29us/step - loss: 0.7826 - coeff_determination: -0.5357 - val_loss: 0.6407 - val_coeff_determination: -0.6097\n",
      "Epoch 3/45\n",
      "2147/2147 [==============================] - 0s 36us/step - loss: 0.6149 - coeff_determination: -0.6406 - val_loss: 0.5635 - val_coeff_determination: -0.6561\n",
      "Epoch 4/45\n",
      "2147/2147 [==============================] - 0s 36us/step - loss: 0.5482 - coeff_determination: -0.6823 - val_loss: 0.5307 - val_coeff_determination: -0.6752\n",
      "Epoch 5/45\n",
      "2147/2147 [==============================] - 0s 36us/step - loss: 0.4972 - coeff_determination: -0.7052 - val_loss: 0.5368 - val_coeff_determination: -0.6708\n",
      "Epoch 6/45\n",
      "2147/2147 [==============================] - 0s 29us/step - loss: 0.4746 - coeff_determination: -0.7184 - val_loss: 0.4878 - val_coeff_determination: -0.7014\n",
      "Epoch 7/45\n",
      "2147/2147 [==============================] - 0s 36us/step - loss: 0.4566 - coeff_determination: -0.7296 - val_loss: 0.4488 - val_coeff_determination: -0.7253\n",
      "Epoch 8/45\n",
      "2147/2147 [==============================] - 0s 36us/step - loss: 0.4427 - coeff_determination: -0.7398 - val_loss: 0.5078 - val_coeff_determination: -0.6875\n",
      "Epoch 9/45\n",
      "2147/2147 [==============================] - 0s 36us/step - loss: 0.4367 - coeff_determination: -0.7385 - val_loss: 0.4760 - val_coeff_determination: -0.7098\n"
     ]
    },
    {
     "data": {
      "text/plain": [
       "<keras.callbacks.History at 0x1f3430ea860>"
      ]
     },
     "execution_count": 47,
     "metadata": {},
     "output_type": "execute_result"
    }
   ],
   "source": [
    "%%capture --no-stdout --no-display\n",
    "\n",
    "from keras import models\n",
    "from keras import layers\n",
    "\n",
    "# Getting number of features\n",
    "nb_features = X_train.shape[1]\n",
    "\n",
    "# Defining architecture of the neural network\n",
    "network = models.Sequential()\n",
    "network.add(layers.Dense(512, activation='relu', input_shape=(nb_features,)))\n",
    "network.add(layers.Dense(1)) # no activation function for regression\n",
    "\n",
    "network.compile(optimizer='rmsprop',\n",
    "                loss='mean_squared_error',\n",
    "                metrics=[coeff_determination]\n",
    ")\n",
    "\n",
    "# Fitting the neural network model\n",
    "network.fit(X_train, y_train,\n",
    "            epochs=45,\n",
    "            batch_size=32,\n",
    "            callbacks=callbacks_list,\n",
    "            validation_data=(X_val, y_val), # required for early stopping\n",
    "           )"
   ]
  },
  {
   "cell_type": "markdown",
   "metadata": {
    "Collapsed": "false"
   },
   "source": [
    "## Modèle **sans** la variable **'*ENERGYSTARScore*'**"
   ]
  },
  {
   "cell_type": "code",
   "execution_count": 48,
   "metadata": {
    "Collapsed": "false",
    "jupyter": {
     "source_hidden": true
    }
   },
   "outputs": [
    {
     "name": "stdout",
     "output_type": "stream",
     "text": [
      "\n",
      "Score of the model with 'ENERGYSTARScore' on test set is: R² = 0.731\n",
      "\n",
      "Proceeding RandomizedSearchCV for ElasticNet…\n",
      "Best parameters found for ElasticNet:\n",
      "  - alpha: 0.001\n",
      "  - l1_ratio: 0.711756484445036\n",
      "\n",
      "Mean cross-validated score of the best estimator for ElasticNet: R² = 0.638 ± 0.030\n",
      "\n",
      "Proceeding RandomizedSearchCV for kSVM poly…\n",
      "Best parameters found for kSVM poly:\n",
      "  - kernel: poly\n",
      "  - C: 8.141695333994882\n",
      "  - coef0: 1\n",
      "  - degree: 1\n",
      "\n",
      "Mean cross-validated score of the best estimator for kSVM poly: R² = 0.623 ± 0.047\n",
      "\n",
      "Proceeding RandomizedSearchCV for kSVM linear…\n",
      "Best parameters found for kSVM linear:\n",
      "  - kernel: linear\n",
      "  - C: 224.03549054627848\n",
      "\n",
      "Mean cross-validated score of the best estimator for kSVM linear: R² = 0.623 ± 0.047\n",
      "\n",
      "Proceeding RandomizedSearchCV for kSVM gaussian…\n",
      "Best parameters found for kSVM gaussian:\n",
      "  - kernel: rbf\n",
      "  - C: 125.71513358441486\n",
      "  - gamma: 0.01\n",
      "\n",
      "Mean cross-validated score of the best estimator for kSVM gaussian: R² = 0.711 ± 0.030\n",
      "\n",
      "Proceeding RandomizedSearchCV for kNN…\n",
      "Best parameters found for kNN:\n",
      "  - n_neighbors: 10\n",
      "  - weights: distance\n",
      "\n",
      "Mean cross-validated score of the best estimator for kNN: R² = 0.682 ± 0.037\n",
      "\n",
      "Proceeding RandomizedSearchCV for RandomForest…\n",
      "Best parameters found for RandomForest:\n",
      "  - max_features: 4\n",
      "  - max_depth: 4\n",
      "  - min_samples_leaf: 57\n",
      "\n",
      "Mean cross-validated score of the best estimator for RandomForest: R² = 0.649 ± 0.024\n",
      "\n",
      "Proceeding RandomizedSearchCV for AdaBoost…\n",
      "Best parameters found for AdaBoost:\n",
      "  - base_estimator: DecisionTreeRegressor(criterion='mse', max_depth=4, max_features=None,\n",
      "                      max_leaf_nodes=None, min_impurity_decrease=0.0,\n",
      "                      min_impurity_split=None, min_samples_leaf=1,\n",
      "                      min_samples_split=2, min_weight_fraction_leaf=0.0,\n",
      "                      presort=False, random_state=None, splitter='best')\n",
      "  - base_estimator__max_depth: 4\n",
      "  - n_estimators: 479\n",
      "  - learning_rate: 0.01\n",
      "  - loss: exponential\n",
      "\n",
      "Mean cross-validated score of the best estimator for AdaBoost: R² = 0.710 ± 0.033\n",
      "\n",
      "The overall best cross-validated score is : R² = 0.711\n",
      "The best model is kSVM gaussian with parameters: \n",
      "  - kernel: rbf\n",
      "  - C: 125.71513358441486\n",
      "  - gamma: 0.01\n",
      "\n",
      "Score of the model without 'ENERGYSTARScore' on test set is: R² = 0.700\n",
      "Compared to the main model, this represent an evolution of: -0.031\n"
     ]
    }
   ],
   "source": [
    "# Creating target vector\n",
    "target_feature = 'TotalGHGEmissions'\n",
    "y = data[target_feature]\n",
    "\n",
    "# Getting features matrix without 'ENERGYSTARScore'\n",
    "X = data.drop(columns=['SiteEnergyUse(kBtu)', 'TotalGHGEmissions', 'ENERGYSTARScore'])\n",
    "\n",
    "# Splitting in training, validation and testing sets\n",
    "(X_train, X_test, y_train, y_test) = split_data(X, y);\n",
    "\n",
    "# Building the model without 'ENERGYSTARScore'\n",
    "model_wo_ENERGIE = build_model(X_train, y_train)\n",
    "\n",
    "# Evaluating the model without 'ENERGYSTARScore'\n",
    "score_test = model_wo_ENERGIE.score(X_test, y_test)\n",
    "print(\"\\nScore of the model without 'ENERGYSTARScore' on test set is: R² = {:.3f}\".format(score_test))\n",
    "print(\"Compared to the main model, this represent an evolution of: {:.3f}\".format(score_test-score_test_GHG))"
   ]
  },
  {
   "cell_type": "markdown",
   "metadata": {
    "Collapsed": "false"
   },
   "source": [
    "## Modèle incluant **toutes les variables** du jeu de données initiales"
   ]
  },
  {
   "cell_type": "code",
   "execution_count": 49,
   "metadata": {
    "Collapsed": "false",
    "jupyter": {
     "source_hidden": true
    }
   },
   "outputs": [
    {
     "name": "stdout",
     "output_type": "stream",
     "text": [
      "\n",
      "Proceeding RandomizedSearchCV for ElasticNet…\n",
      "Best parameters found for ElasticNet:\n",
      "  - alpha: 0.01\n",
      "  - l1_ratio: 0.2865553706598435\n",
      "\n",
      "Mean cross-validated score of the best estimator for ElasticNet: R² = 0.973 ± 0.076\n",
      "\n",
      "Proceeding RandomizedSearchCV for kSVM poly…\n",
      "Best parameters found for kSVM poly:\n",
      "  - kernel: poly\n",
      "  - C: 201.40063620056878\n",
      "  - coef0: 0\n",
      "  - degree: 1\n",
      "\n",
      "Mean cross-validated score of the best estimator for kSVM poly: R² = 0.994 ± 0.018\n",
      "\n",
      "Proceeding RandomizedSearchCV for kSVM linear…\n",
      "Best parameters found for kSVM linear:\n",
      "  - kernel: linear\n",
      "  - C: 170.10017833297258\n",
      "\n",
      "Mean cross-validated score of the best estimator for kSVM linear: R² = 1.000 ± 0.000\n",
      "\n",
      "Proceeding RandomizedSearchCV for kSVM gaussian…\n",
      "Best parameters found for kSVM gaussian:\n",
      "  - kernel: rbf\n",
      "  - C: 380.5449113086169\n",
      "  - gamma: 0.0001\n",
      "\n",
      "Mean cross-validated score of the best estimator for kSVM gaussian: R² = 0.451 ± 0.150\n",
      "\n",
      "Proceeding RandomizedSearchCV for kNN…\n",
      "Best parameters found for kNN:\n",
      "  - n_neighbors: 2\n",
      "  - weights: distance\n",
      "\n",
      "Mean cross-validated score of the best estimator for kNN: R² = 0.716 ± 0.169\n",
      "\n",
      "Proceeding RandomizedSearchCV for RandomForest…\n",
      "Best parameters found for RandomForest:\n",
      "  - max_features: 3\n",
      "  - max_depth: 2\n",
      "  - min_samples_leaf: 5\n",
      "\n",
      "Mean cross-validated score of the best estimator for RandomForest: R² = 0.550 ± 0.175\n",
      "\n",
      "Proceeding RandomizedSearchCV for AdaBoost…\n",
      "Best parameters found for AdaBoost:\n",
      "  - base_estimator: DecisionTreeRegressor(criterion='mse', max_depth=4, max_features=None,\n",
      "                      max_leaf_nodes=None, min_impurity_decrease=0.0,\n",
      "                      min_impurity_split=None, min_samples_leaf=1,\n",
      "                      min_samples_split=2, min_weight_fraction_leaf=0.0,\n",
      "                      presort=False, random_state=None, splitter='best')\n",
      "  - base_estimator__max_depth: 4\n",
      "  - n_estimators: 729\n",
      "  - learning_rate: 0.01\n",
      "  - loss: square\n",
      "\n",
      "Mean cross-validated score of the best estimator for AdaBoost: R² = 0.691 ± 0.367\n",
      "\n",
      "The overall best cross-validated score is : R² = 1.000\n",
      "The best model is kSVM linear with parameters: \n",
      "  - kernel: linear\n",
      "  - C: 170.10017833297258\n",
      "\n",
      "Score of the modelisation with ALL variables on test set is: R² = 1.000\n",
      "Compared to the main model, this represent an evolution of: 0.269\n"
     ]
    }
   ],
   "source": [
    "%%capture --no-stdout --no-display\n",
    "\n",
    "# Load binary file with cleaned data\n",
    "data_RAW = pd.read_csv(\"p4_data_raw.csv\")\n",
    "\n",
    "# Choice of target (re-run the full notebook in another kernel)\n",
    "target_feature = 'TotalGHGEmissions'\n",
    "\n",
    "# Creating target vector\n",
    "y = data_RAW[target_feature]\n",
    "\n",
    "# Getting the features' matrix\n",
    "X = data_RAW.drop(columns=['SiteEnergyUse(kBtu)', 'TotalGHGEmissions'])\n",
    "\n",
    "# Split data set into training set and testing set\n",
    "(X_train, X_test, y_train, y_test) = split_data(X, y)\n",
    "\n",
    "# Building the model with the 'SiteEnergyUse(kBtu)' target\n",
    "model_RAW = build_model(X_train, y_train)\n",
    "\n",
    "# Evaluating the model built with all raw features\n",
    "score_test = model_RAW.score(X_test, y_test)\n",
    "print(\"\\nScore of the modelisation with ALL variables on test set is: R² = {:.3f}\".format(score_test))\n",
    "print(\"Compared to the main model, this represent an evolution of: {:.3f}\".format(score_test-score_test_GHG))"
   ]
  },
  {
   "cell_type": "markdown",
   "metadata": {
    "Collapsed": "false"
   },
   "source": [
    "## Modèle à partir des axes principaux d'inerties de l'**ACP**"
   ]
  },
  {
   "cell_type": "code",
   "execution_count": 50,
   "metadata": {
    "Collapsed": "false",
    "jupyter": {
     "source_hidden": true
    }
   },
   "outputs": [
    {
     "name": "stdout",
     "output_type": "stream",
     "text": [
      "\n",
      "Proceeding RandomizedSearchCV for ElasticNet…\n",
      "Best parameters found for ElasticNet:\n",
      "  - alpha: 0.001\n",
      "  - l1_ratio: 0.0540256623920794\n",
      "\n",
      "Mean cross-validated score of the best estimator for ElasticNet: R² = 0.705 ± 0.027\n",
      "\n",
      "Proceeding RandomizedSearchCV for kSVM poly…\n",
      "Best parameters found for kSVM poly:\n",
      "  - kernel: poly\n",
      "  - C: 376.6152495173975\n",
      "  - coef0: 0\n",
      "  - degree: 1\n",
      "\n",
      "Mean cross-validated score of the best estimator for kSVM poly: R² = 0.700 ± 0.025\n",
      "\n",
      "Proceeding RandomizedSearchCV for kSVM linear…\n",
      "Best parameters found for kSVM linear:\n",
      "  - kernel: linear\n",
      "  - C: 38.99941158626001\n",
      "\n",
      "Mean cross-validated score of the best estimator for kSVM linear: R² = 0.700 ± 0.024\n",
      "\n",
      "Proceeding RandomizedSearchCV for kSVM gaussian…\n",
      "Best parameters found for kSVM gaussian:\n",
      "  - kernel: rbf\n",
      "  - C: 84.22361801369564\n",
      "  - gamma: 0.01\n",
      "\n",
      "Mean cross-validated score of the best estimator for kSVM gaussian: R² = 0.754 ± 0.029\n",
      "\n",
      "Proceeding RandomizedSearchCV for kNN…\n",
      "Best parameters found for kNN:\n",
      "  - n_neighbors: 7\n",
      "  - weights: distance\n",
      "\n",
      "Mean cross-validated score of the best estimator for kNN: R² = 0.692 ± 0.035\n",
      "\n",
      "Proceeding RandomizedSearchCV for RandomForest…\n",
      "Best parameters found for RandomForest:\n",
      "  - max_features: 4\n",
      "  - max_depth: 4\n",
      "  - min_samples_leaf: 44\n",
      "\n",
      "Mean cross-validated score of the best estimator for RandomForest: R² = 0.672 ± 0.025\n",
      "\n",
      "Proceeding RandomizedSearchCV for AdaBoost…\n",
      "Best parameters found for AdaBoost:\n",
      "  - base_estimator: DecisionTreeRegressor(criterion='mse', max_depth=4, max_features=None,\n",
      "                      max_leaf_nodes=None, min_impurity_decrease=0.0,\n",
      "                      min_impurity_split=None, min_samples_leaf=1,\n",
      "                      min_samples_split=2, min_weight_fraction_leaf=0.0,\n",
      "                      presort=False, random_state=None, splitter='best')\n",
      "  - base_estimator__max_depth: 4\n",
      "  - n_estimators: 454\n",
      "  - learning_rate: 1.0\n",
      "  - loss: square\n",
      "\n",
      "Mean cross-validated score of the best estimator for AdaBoost: R² = 0.719 ± 0.034\n",
      "\n",
      "The overall best cross-validated score is : R² = 0.754\n",
      "The best model is kSVM gaussian with parameters: \n",
      "  - kernel: rbf\n",
      "  - C: 84.22361801369564\n",
      "  - gamma: 0.01\n",
      "\n",
      "Score of the modelisation from ACP on test set is: R² = 0.731\n",
      "Compared to the main model, this represent an evolution of: 0.000\n"
     ]
    }
   ],
   "source": [
    "# Load ACP components from .csv file\n",
    "from numpy import genfromtxt\n",
    "data_PCA = genfromtxt('p4_dataPCA.csv', delimiter=',')\n",
    "\n",
    "# Converting to pd.DataFrame\n",
    "data_PCA = pd.DataFrame(data_PCA)\n",
    "\n",
    "# Creating features' matrix ('SiteEnergyUse(kBtu)' already removed)\n",
    "X = data_PCA.iloc[:,:-1]\n",
    "\n",
    "# Get target vector ('TotalGHGEmissions') from last column \n",
    "y = data_PCA.iloc[:,-1]\n",
    "\n",
    "# Split data set into training set and testing set\n",
    "(X_train, X_test, y_train, y_test) = split_data(X, y)\n",
    "\n",
    "# Building the model with the 'TotalGHGEmissions' target\n",
    "model_PCA = build_model(X_train, y_train)\n",
    "\n",
    "# Evaluating the model with PCA features\n",
    "score_test = model_PCA.score(X_test, y_test)\n",
    "print(\"\\nScore of the modelisation from ACP on test set is: R² = {:.3f}\".format(score_test))\n",
    "print(\"Compared to the main model, this represent an evolution of: {:.3f}\".format(score_test-score_test_GHG))"
   ]
  },
  {
   "cell_type": "markdown",
   "metadata": {
    "Collapsed": "false"
   },
   "source": [
    "## Modèle intégrant les **valeurs hors-normes**"
   ]
  },
  {
   "cell_type": "code",
   "execution_count": 51,
   "metadata": {
    "Collapsed": "false",
    "jupyter": {
     "source_hidden": true
    }
   },
   "outputs": [
    {
     "name": "stdout",
     "output_type": "stream",
     "text": [
      "\n",
      "Proceeding RandomizedSearchCV for ElasticNet…\n",
      "Best parameters found for ElasticNet:\n",
      "  - alpha: 0.1\n",
      "  - l1_ratio: 0.2997249252943345\n",
      "\n",
      "Mean cross-validated score of the best estimator for ElasticNet: R² = 0.411 ± 0.594\n",
      "\n",
      "Proceeding RandomizedSearchCV for kSVM poly…\n",
      "Best parameters found for kSVM poly:\n",
      "  - kernel: poly\n",
      "  - C: 9.515812088903775\n",
      "  - coef0: 0\n",
      "  - degree: 1\n",
      "\n",
      "Mean cross-validated score of the best estimator for kSVM poly: R² = -0.388 ± 3.128\n",
      "\n",
      "Proceeding RandomizedSearchCV for kSVM linear…\n",
      "Best parameters found for kSVM linear:\n",
      "  - kernel: linear\n",
      "  - C: 67.80633003671605\n",
      "\n",
      "Mean cross-validated score of the best estimator for kSVM linear: R² = -0.396 ± 3.146\n",
      "\n",
      "Proceeding RandomizedSearchCV for kSVM gaussian…\n",
      "Best parameters found for kSVM gaussian:\n",
      "  - kernel: rbf\n",
      "  - C: 28.602018907905823\n",
      "  - gamma: 0.01\n",
      "\n",
      "Mean cross-validated score of the best estimator for kSVM gaussian: R² = 0.747 ± 0.033\n",
      "\n",
      "Proceeding RandomizedSearchCV for kNN…\n",
      "Best parameters found for kNN:\n",
      "  - n_neighbors: 9\n",
      "  - weights: distance\n",
      "\n",
      "Mean cross-validated score of the best estimator for kNN: R² = 0.670 ± 0.027\n",
      "\n",
      "Proceeding RandomizedSearchCV for RandomForest…\n",
      "Best parameters found for RandomForest:\n",
      "  - max_features: 3\n",
      "  - max_depth: 4\n",
      "  - min_samples_leaf: 25\n",
      "\n",
      "Mean cross-validated score of the best estimator for RandomForest: R² = 0.643 ± 0.024\n",
      "\n",
      "Proceeding RandomizedSearchCV for AdaBoost…\n",
      "Best parameters found for AdaBoost:\n",
      "  - base_estimator: DecisionTreeRegressor(criterion='mse', max_depth=4, max_features=None,\n",
      "                      max_leaf_nodes=None, min_impurity_decrease=0.0,\n",
      "                      min_impurity_split=None, min_samples_leaf=1,\n",
      "                      min_samples_split=2, min_weight_fraction_leaf=0.0,\n",
      "                      presort=False, random_state=None, splitter='best')\n",
      "  - base_estimator__max_depth: 4\n",
      "  - n_estimators: 89\n",
      "  - learning_rate: 0.1\n",
      "  - loss: square\n",
      "\n",
      "Mean cross-validated score of the best estimator for AdaBoost: R² = 0.740 ± 0.024\n",
      "\n",
      "The overall best cross-validated score is : R² = 0.747\n",
      "The best model is kSVM gaussian with parameters: \n",
      "  - kernel: rbf\n",
      "  - C: 28.602018907905823\n",
      "  - gamma: 0.01\n",
      "\n",
      "Score of the modelisation WITH outliers on test set is: R² = 0.739\n",
      "Compared to the main model, this represent an evolution of: 0.008\n"
     ]
    }
   ],
   "source": [
    "%%capture --no-stdout --no-display\n",
    "\n",
    "# Load binary file with outliers\n",
    "data_w_outliers = pd.read_feather(\"p4_data_w_outliers.ft\")\n",
    "\n",
    "# Get target vector ('TotalGHGEmissions') from last column \n",
    "feature_name = 'TotalGHGEmissions'\n",
    "y = data_w_outliers[feature_name]\n",
    "\n",
    "# Creating features' matrix\n",
    "X = data_w_outliers.drop(columns=['SiteEnergyUse(kBtu)', 'TotalGHGEmissions'])\n",
    "\n",
    "# Split data set into training set and testing set\n",
    "(X_train, X_test, y_train, y_test) = split_data(X, y)\n",
    "\n",
    "# Building the model with the 'SiteEnergyUse(kBtu)' target\n",
    "model_OUTLIERS = build_model(X_train, y_train)\n",
    "\n",
    "# Evaluating the model with PCA features\n",
    "score_test = model_OUTLIERS.score(X_test, y_test)\n",
    "print(\"\\nScore of the modelisation WITH outliers on test set is: R² = {:.3f}\".format(score_test))\n",
    "print(\"Compared to the main model, this represent an evolution of: {:.3f}\".format(score_test-score_test_GHG))"
   ]
  },
  {
   "cell_type": "markdown",
   "metadata": {
    "Collapsed": "false"
   },
   "source": [
    "## Modèle intégrant les **variables colinéaires**"
   ]
  },
  {
   "cell_type": "code",
   "execution_count": 52,
   "metadata": {
    "Collapsed": "false",
    "jupyter": {
     "source_hidden": true
    }
   },
   "outputs": [
    {
     "name": "stdout",
     "output_type": "stream",
     "text": [
      "\n",
      "Proceeding RandomizedSearchCV for ElasticNet…\n",
      "Best parameters found for ElasticNet:\n",
      "  - alpha: 0.01\n",
      "  - l1_ratio: 0.26119784512541044\n",
      "\n",
      "Mean cross-validated score of the best estimator for ElasticNet: R² = 0.679 ± 0.036\n",
      "\n",
      "Proceeding RandomizedSearchCV for kSVM poly…\n",
      "Best parameters found for kSVM poly:\n",
      "  - kernel: poly\n",
      "  - C: 105.75759101446894\n",
      "  - coef0: 1\n",
      "  - degree: 1\n",
      "\n",
      "Mean cross-validated score of the best estimator for kSVM poly: R² = 0.664 ± 0.064\n",
      "\n",
      "Proceeding RandomizedSearchCV for kSVM linear…\n",
      "Best parameters found for kSVM linear:\n",
      "  - kernel: linear\n",
      "  - C: 126.40283162110504\n",
      "\n",
      "Mean cross-validated score of the best estimator for kSVM linear: R² = 0.665 ± 0.064\n",
      "\n",
      "Proceeding RandomizedSearchCV for kSVM gaussian…\n",
      "Best parameters found for kSVM gaussian:\n",
      "  - kernel: rbf\n",
      "  - C: 188.6169696846274\n",
      "  - gamma: 0.001\n",
      "\n",
      "Mean cross-validated score of the best estimator for kSVM gaussian: R² = 0.743 ± 0.030\n",
      "\n",
      "Proceeding RandomizedSearchCV for kNN…\n",
      "Best parameters found for kNN:\n",
      "  - n_neighbors: 7\n",
      "  - weights: distance\n",
      "\n",
      "Mean cross-validated score of the best estimator for kNN: R² = 0.669 ± 0.041\n",
      "\n",
      "Proceeding RandomizedSearchCV for RandomForest…\n",
      "Best parameters found for RandomForest:\n",
      "  - max_features: 4\n",
      "  - max_depth: 4\n",
      "  - min_samples_leaf: 23\n",
      "\n",
      "Mean cross-validated score of the best estimator for RandomForest: R² = 0.644 ± 0.029\n",
      "\n",
      "Proceeding RandomizedSearchCV for AdaBoost…\n",
      "Best parameters found for AdaBoost:\n",
      "  - base_estimator: DecisionTreeRegressor(criterion='mse', max_depth=4, max_features=None,\n",
      "                      max_leaf_nodes=None, min_impurity_decrease=0.0,\n",
      "                      min_impurity_split=None, min_samples_leaf=1,\n",
      "                      min_samples_split=2, min_weight_fraction_leaf=0.0,\n",
      "                      presort=False, random_state=None, splitter='best')\n",
      "  - base_estimator__max_depth: 4\n",
      "  - n_estimators: 601\n",
      "  - learning_rate: 0.1\n",
      "  - loss: square\n",
      "\n",
      "Mean cross-validated score of the best estimator for AdaBoost: R² = 0.731 ± 0.027\n",
      "\n",
      "The overall best cross-validated score is : R² = 0.743\n",
      "The best model is kSVM gaussian with parameters: \n",
      "  - kernel: rbf\n",
      "  - C: 188.6169696846274\n",
      "  - gamma: 0.001\n",
      "\n",
      "Score of the modelisation WITH colinear variables on test set is: R² = 0.695\n",
      "Compared to the main model, this represent an evolution of: -0.036\n"
     ]
    }
   ],
   "source": [
    "%%capture --no-stdout --no-display\n",
    "\n",
    "# Load binary file with outliers\n",
    "data_w_colinear = pd.read_feather(\"p4_data_w_colinear_wo_outliers.ft\")\n",
    "\n",
    "# Get target vector ('TotalGHGEmissions') from last column \n",
    "feature_name = 'TotalGHGEmissions'\n",
    "y = data_w_colinear[feature_name]\n",
    "\n",
    "# Creating features' matrix\n",
    "X = data_w_colinear.drop(columns=['SiteEnergyUse(kBtu)', 'TotalGHGEmissions'])\n",
    "\n",
    "# Split data set into training set and testing set\n",
    "(X_train, X_test, y_train, y_test) = split_data(X, y)\n",
    "\n",
    "# Building the model with the 'SiteEnergyUse(kBtu)' target\n",
    "model_COLINEAR = build_model(X_train, y_train)\n",
    "\n",
    "# Evaluating the model with PCA features\n",
    "score_test = model_COLINEAR.score(X_test, y_test)\n",
    "print(\"\\nScore of the modelisation WITH colinear variables on test set is: R² = {:.3f}\".format(score_test))\n",
    "print(\"Compared to the main model, this represent an evolution of: {:.3f}\".format(score_test-score_test_GHG))"
   ]
  },
  {
   "cell_type": "markdown",
   "metadata": {
    "Collapsed": "false"
   },
   "source": [
    "## Modèle pour la seconde **cible : *'SiteEnergyUse(kBtu)'***"
   ]
  },
  {
   "cell_type": "code",
   "execution_count": 53,
   "metadata": {
    "Collapsed": "false",
    "jupyter": {
     "source_hidden": true
    }
   },
   "outputs": [
    {
     "name": "stdout",
     "output_type": "stream",
     "text": [
      "\n",
      "Proceeding RandomizedSearchCV for ElasticNet…\n",
      "Best parameters found for ElasticNet:\n",
      "  - alpha: 0.001\n",
      "  - l1_ratio: 0.13524422390760715\n",
      "\n",
      "Mean cross-validated score of the best estimator for ElasticNet: R² = 0.576 ± 0.055\n",
      "\n",
      "Proceeding RandomizedSearchCV for kSVM poly…\n",
      "Best parameters found for kSVM poly:\n",
      "  - kernel: poly\n",
      "  - C: 26.42089601575814\n",
      "  - coef0: 1\n",
      "  - degree: 1\n",
      "\n",
      "Mean cross-validated score of the best estimator for kSVM poly: R² = 0.551 ± 0.086\n",
      "\n",
      "Proceeding RandomizedSearchCV for kSVM linear…\n",
      "Best parameters found for kSVM linear:\n",
      "  - kernel: linear\n",
      "  - C: 75.50968026768312\n",
      "\n",
      "Mean cross-validated score of the best estimator for kSVM linear: R² = 0.551 ± 0.086\n",
      "\n",
      "Proceeding RandomizedSearchCV for kSVM gaussian…\n",
      "Best parameters found for kSVM gaussian:\n",
      "  - kernel: rbf\n",
      "  - C: 14.452523939843834\n",
      "  - gamma: 0.01\n",
      "\n",
      "Mean cross-validated score of the best estimator for kSVM gaussian: R² = 0.718 ± 0.052\n",
      "\n",
      "Proceeding RandomizedSearchCV for kNN…\n",
      "Best parameters found for kNN:\n",
      "  - n_neighbors: 9\n",
      "  - weights: distance\n",
      "\n",
      "Mean cross-validated score of the best estimator for kNN: R² = 0.628 ± 0.068\n",
      "\n",
      "Proceeding RandomizedSearchCV for RandomForest…\n",
      "Best parameters found for RandomForest:\n",
      "  - max_features: 4\n",
      "  - max_depth: 3\n",
      "  - min_samples_leaf: 46\n",
      "\n",
      "Mean cross-validated score of the best estimator for RandomForest: R² = 0.588 ± 0.051\n",
      "\n",
      "Proceeding RandomizedSearchCV for AdaBoost…\n",
      "Best parameters found for AdaBoost:\n",
      "  - base_estimator: DecisionTreeRegressor(criterion='mse', max_depth=4, max_features=None,\n",
      "                      max_leaf_nodes=None, min_impurity_decrease=0.0,\n",
      "                      min_impurity_split=None, min_samples_leaf=1,\n",
      "                      min_samples_split=2, min_weight_fraction_leaf=0.0,\n",
      "                      presort=False, random_state=None, splitter='best')\n",
      "  - base_estimator__max_depth: 4\n",
      "  - n_estimators: 185\n",
      "  - learning_rate: 0.01\n",
      "  - loss: exponential\n",
      "\n",
      "Mean cross-validated score of the best estimator for AdaBoost: R² = 0.672 ± 0.066\n",
      "\n",
      "The overall best cross-validated score is : R² = 0.718\n",
      "The best model is kSVM gaussian with parameters: \n",
      "  - kernel: rbf\n",
      "  - C: 14.452523939843834\n",
      "  - gamma: 0.01\n",
      "\n",
      "Score of the modelisation of 'SiteEnergyUse(kBtu)' on test set is: R² = 0.737\n"
     ]
    }
   ],
   "source": [
    "# Creating target vector\n",
    "target_feature = 'SiteEnergyUse(kBtu)'\n",
    "y = data[target_feature]\n",
    "\n",
    "# Getting features matrix\n",
    "X = data.drop(columns=['SiteEnergyUse(kBtu)', 'TotalGHGEmissions'])\n",
    "\n",
    "# Split data set into training set and testing set\n",
    "(X_train, X_test, y_train, y_test) = split_data(X, y)\n",
    "\n",
    "# Building the model with the 'SiteEnergyUse(kBtu)' target\n",
    "model_ENERGY = build_model(X_train, y_train)\n",
    "\n",
    "# Evaluating the model without 'ENERGYSTARScore'\n",
    "score_test = model_ENERGY.score(X_test, y_test)\n",
    "print(\"\\nScore of the modelisation of 'SiteEnergyUse(kBtu)' on test set is: R² = {:.3f}\".format(score_test))"
   ]
  },
  {
   "cell_type": "markdown",
   "metadata": {
    "Collapsed": "false"
   },
   "source": [
    "# **Ré-entraînement final et sauvegarde du modèle**\n",
    "Nous ré-entraînons le modèle avec les les hyperparamètres sélectionnés, sur l'ensemble du jeu de données pour lequel nous disposons des étiquettes cibles : le jeu de données d'entraînement et le jeu de données de test.\n",
    "\n",
    "Nous sauvegardons le modèle dans un fichier pickle pour usage ultérieur, en indiquant dans le nom du fichier la version de scikit-learn."
   ]
  },
  {
   "cell_type": "code",
   "execution_count": 54,
   "metadata": {
    "Collapsed": "false"
   },
   "outputs": [],
   "source": [
    "# Load libraries\n",
    "import sklearn\n",
    "import joblib\n",
    "\n",
    "# Features : all columns, except targets\n",
    "X = data.drop(columns=['TotalGHGEmissions', 'SiteEnergyUse(kBtu)'])\n",
    "\n",
    "# Re-training the final model for GHG on the whole set\n",
    "y = data['TotalGHGEmissions']\n",
    "model_GHG.fit(X, y)\n",
    "\n",
    "# Re-training the final model for ENERGY on the whole set\n",
    "y = data['SiteEnergyUse(kBtu)']\n",
    "model_ENERGY.fit(X, y)\n",
    "\n",
    "# Get scikit-learn version\n",
    "scikit_version = sklearn.__version__\n",
    "\n",
    "# Save the models for GHG and SiteEnergyUse as pickle files\n",
    "joblib.dump(model_GHG, \"models/model_GHG_{version}.pkl\".format(version=scikit_version))\n",
    "joblib.dump(model_ENERGY, \"models/model_ENERGY_{version}.pkl\".format(version=scikit_version));"
   ]
  },
  {
   "cell_type": "markdown",
   "metadata": {
    "Collapsed": "false"
   },
   "source": [
    "### Suppression du dossier de cache"
   ]
  },
  {
   "cell_type": "code",
   "execution_count": 55,
   "metadata": {
    "Collapsed": "false"
   },
   "outputs": [],
   "source": [
    "from shutil import rmtree\n",
    "\n",
    "# Clear the cache directory when you don't need it anymore\n",
    "rmtree(cachedir)"
   ]
  },
  {
   "cell_type": "code",
   "execution_count": 56,
   "metadata": {
    "Collapsed": "false"
   },
   "outputs": [],
   "source": [
    "# Save the kernel\n",
    "import dill\n",
    "\n",
    "dill.dump_session('kernels/p4_model_kernel.db')"
   ]
  }
 ],
 "metadata": {
  "kernelspec": {
   "display_name": "Python 3",
   "language": "python",
   "name": "python3"
  },
  "language_info": {
   "codemirror_mode": {
    "name": "ipython",
    "version": 3
   },
   "file_extension": ".py",
   "mimetype": "text/x-python",
   "name": "python",
   "nbconvert_exporter": "python",
   "pygments_lexer": "ipython3",
   "version": "3.7.3"
  }
 },
 "nbformat": 4,
 "nbformat_minor": 4
}
